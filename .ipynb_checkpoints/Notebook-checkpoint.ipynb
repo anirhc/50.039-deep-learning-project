{
 "cells": [
  {
   "cell_type": "markdown",
   "id": "35a30b2d",
   "metadata": {
    "id": "35a30b2d"
   },
   "source": [
    "# Mental Health Treatment"
   ]
  },
  {
   "cell_type": "markdown",
   "id": "397e3238",
   "metadata": {
    "id": "397e3238"
   },
   "source": [
    "## Project Notebook\n",
    "-   Swastik Majumdar 1005802\n",
    "-   Aditya Vishwanath  1004281\n",
    "-   Harikrishnan Chalapathy Anirudh 1005501"
   ]
  },
  {
   "cell_type": "markdown",
   "id": "381313f7",
   "metadata": {
    "id": "381313f7"
   },
   "source": [
    "### Table of Contents\n",
    "\n",
    "-   Packages required\n",
    "-   Data preprocessing\n",
    "-   Data Visualization\n",
    "-   Train Test Validation Split\n",
    "-   Model Architecture\n",
    "-   Accuracy and Loss curves\n",
    "-   Evaluation\n",
    "-   Loading the trained model\n",
    "-   Comparison of model performance against some state-of-the-art ones"
   ]
  },
  {
   "cell_type": "markdown",
   "id": "34689cae",
   "metadata": {
    "id": "34689cae"
   },
   "source": [
    "#### Packages required"
   ]
  },
  {
   "cell_type": "code",
   "execution_count": 5,
   "id": "d6eee03c",
   "metadata": {
    "id": "d6eee03c"
   },
   "outputs": [
    {
     "name": "stdout",
     "output_type": "stream",
     "text": [
      "Requirement already satisfied: torchmetrics in c:\\users\\swast\\anaconda3\\lib\\site-packages (0.11.4)\n",
      "Requirement already satisfied: packaging in c:\\users\\swast\\anaconda3\\lib\\site-packages (from torchmetrics) (21.3)\n",
      "Requirement already satisfied: torch>=1.8.1 in c:\\users\\swast\\anaconda3\\lib\\site-packages (from torchmetrics) (2.0.0+cu118)\n",
      "Requirement already satisfied: numpy>=1.17.2 in c:\\users\\swast\\anaconda3\\lib\\site-packages (from torchmetrics) (1.21.5)\n",
      "Requirement already satisfied: typing-extensions in c:\\users\\swast\\anaconda3\\lib\\site-packages (from torch>=1.8.1->torchmetrics) (4.1.1)\n",
      "Requirement already satisfied: filelock in c:\\users\\swast\\anaconda3\\lib\\site-packages (from torch>=1.8.1->torchmetrics) (3.6.0)\n",
      "Requirement already satisfied: jinja2 in c:\\users\\swast\\anaconda3\\lib\\site-packages (from torch>=1.8.1->torchmetrics) (3.0.1)\n",
      "Requirement already satisfied: sympy in c:\\users\\swast\\anaconda3\\lib\\site-packages (from torch>=1.8.1->torchmetrics) (1.10.1)\n",
      "Requirement already satisfied: networkx in c:\\users\\swast\\anaconda3\\lib\\site-packages (from torch>=1.8.1->torchmetrics) (3.0)\n",
      "Requirement already satisfied: pyparsing!=3.0.5,>=2.0.2 in c:\\users\\swast\\anaconda3\\lib\\site-packages (from packaging->torchmetrics) (3.0.4)\n",
      "Requirement already satisfied: MarkupSafe>=2.0 in c:\\users\\swast\\anaconda3\\lib\\site-packages (from jinja2->torch>=1.8.1->torchmetrics) (2.0.1)\n",
      "Requirement already satisfied: mpmath>=0.19 in c:\\users\\swast\\anaconda3\\lib\\site-packages (from sympy->torch>=1.8.1->torchmetrics) (1.2.1)\n",
      "Note: you may need to restart the kernel to use updated packages.\n",
      "Requirement already satisfied: autokeras in c:\\users\\swast\\anaconda3\\lib\\site-packages (1.0.19)\n",
      "Requirement already satisfied: packaging in c:\\users\\swast\\anaconda3\\lib\\site-packages (from autokeras) (21.3)\n",
      "Requirement already satisfied: keras-tuner>=1.1.0 in c:\\users\\swast\\anaconda3\\lib\\site-packages (from autokeras) (1.1.3)\n",
      "Requirement already satisfied: pandas in c:\\users\\swast\\anaconda3\\lib\\site-packages (from autokeras) (1.5.3)\n",
      "Requirement already satisfied: tensorflow>=2.8.0 in c:\\users\\swast\\anaconda3\\lib\\site-packages (from autokeras) (2.10.1)\n",
      "Requirement already satisfied: numpy in c:\\users\\swast\\anaconda3\\lib\\site-packages (from keras-tuner>=1.1.0->autokeras) (1.21.5)\n",
      "Requirement already satisfied: kt-legacy in c:\\users\\swast\\anaconda3\\lib\\site-packages (from keras-tuner>=1.1.0->autokeras) (1.0.4)\n",
      "Requirement already satisfied: ipython in c:\\users\\swast\\anaconda3\\lib\\site-packages (from keras-tuner>=1.1.0->autokeras) (8.2.0)\n",
      "Requirement already satisfied: requests in c:\\users\\swast\\anaconda3\\lib\\site-packages (from keras-tuner>=1.1.0->autokeras) (2.27.1)\n",
      "Requirement already satisfied: tensorboard in c:\\users\\swast\\anaconda3\\lib\\site-packages (from keras-tuner>=1.1.0->autokeras) (2.10.1)\n",
      "Requirement already satisfied: flatbuffers>=2.0 in c:\\users\\swast\\anaconda3\\lib\\site-packages (from tensorflow>=2.8.0->autokeras) (23.3.3)\n",
      "Requirement already satisfied: wrapt>=1.11.0 in c:\\users\\swast\\anaconda3\\lib\\site-packages (from tensorflow>=2.8.0->autokeras) (1.12.1)\n",
      "Requirement already satisfied: opt-einsum>=2.3.2 in c:\\users\\swast\\anaconda3\\lib\\site-packages (from tensorflow>=2.8.0->autokeras) (3.3.0)\n",
      "Requirement already satisfied: astunparse>=1.6.0 in c:\\users\\swast\\anaconda3\\lib\\site-packages (from tensorflow>=2.8.0->autokeras) (1.6.3)\n",
      "Requirement already satisfied: h5py>=2.9.0 in c:\\users\\swast\\anaconda3\\lib\\site-packages (from tensorflow>=2.8.0->autokeras) (3.6.0)\n",
      "Requirement already satisfied: google-pasta>=0.1.1 in c:\\users\\swast\\anaconda3\\lib\\site-packages (from tensorflow>=2.8.0->autokeras) (0.2.0)\n",
      "Requirement already satisfied: grpcio<2.0,>=1.24.3 in c:\\users\\swast\\anaconda3\\lib\\site-packages (from tensorflow>=2.8.0->autokeras) (1.42.0)\n",
      "Requirement already satisfied: gast<=0.4.0,>=0.2.1 in c:\\users\\swast\\anaconda3\\lib\\site-packages (from tensorflow>=2.8.0->autokeras) (0.4.0)\n",
      "Requirement already satisfied: tensorflow-io-gcs-filesystem>=0.23.1 in c:\\users\\swast\\anaconda3\\lib\\site-packages (from tensorflow>=2.8.0->autokeras) (0.26.0)\n",
      "Requirement already satisfied: libclang>=13.0.0 in c:\\users\\swast\\anaconda3\\lib\\site-packages (from tensorflow>=2.8.0->autokeras) (14.0.6)\n",
      "Requirement already satisfied: setuptools in c:\\users\\swast\\anaconda3\\lib\\site-packages (from tensorflow>=2.8.0->autokeras) (59.8.0)\n",
      "Requirement already satisfied: keras<2.11,>=2.10.0 in c:\\users\\swast\\anaconda3\\lib\\site-packages (from tensorflow>=2.8.0->autokeras) (2.10.0)\n",
      "Requirement already satisfied: keras-preprocessing>=1.1.1 in c:\\users\\swast\\anaconda3\\lib\\site-packages (from tensorflow>=2.8.0->autokeras) (1.1.2)\n",
      "Requirement already satisfied: protobuf<3.20,>=3.9.2 in c:\\users\\swast\\anaconda3\\lib\\site-packages (from tensorflow>=2.8.0->autokeras) (3.19.1)\n",
      "Requirement already satisfied: six>=1.12.0 in c:\\users\\swast\\anaconda3\\lib\\site-packages (from tensorflow>=2.8.0->autokeras) (1.16.0)\n",
      "Requirement already satisfied: termcolor>=1.1.0 in c:\\users\\swast\\anaconda3\\lib\\site-packages (from tensorflow>=2.8.0->autokeras) (1.1.0)\n",
      "Requirement already satisfied: tensorflow-estimator<2.11,>=2.10.0 in c:\\users\\swast\\anaconda3\\lib\\site-packages (from tensorflow>=2.8.0->autokeras) (2.10.0)\n",
      "Requirement already satisfied: typing-extensions>=3.6.6 in c:\\users\\swast\\anaconda3\\lib\\site-packages (from tensorflow>=2.8.0->autokeras) (4.1.1)\n",
      "Requirement already satisfied: absl-py>=1.0.0 in c:\\users\\swast\\anaconda3\\lib\\site-packages (from tensorflow>=2.8.0->autokeras) (1.2.0)\n",
      "Requirement already satisfied: pyparsing!=3.0.5,>=2.0.2 in c:\\users\\swast\\anaconda3\\lib\\site-packages (from packaging->autokeras) (3.0.4)\n",
      "Requirement already satisfied: python-dateutil>=2.8.1 in c:\\users\\swast\\anaconda3\\lib\\site-packages (from pandas->autokeras) (2.8.2)\n",
      "Requirement already satisfied: pytz>=2020.1 in c:\\users\\swast\\anaconda3\\lib\\site-packages (from pandas->autokeras) (2021.3)\n",
      "Requirement already satisfied: wheel<1.0,>=0.23.0 in c:\\users\\swast\\anaconda3\\lib\\site-packages (from astunparse>=1.6.0->tensorflow>=2.8.0->autokeras) (0.37.1)\n",
      "Requirement already satisfied: tensorboard-plugin-wit>=1.6.0 in c:\\users\\swast\\anaconda3\\lib\\site-packages (from tensorboard->keras-tuner>=1.1.0->autokeras) (1.8.1)\n",
      "Requirement already satisfied: tensorboard-data-server<0.7.0,>=0.6.0 in c:\\users\\swast\\anaconda3\\lib\\site-packages (from tensorboard->keras-tuner>=1.1.0->autokeras) (0.6.1)\n",
      "Requirement already satisfied: google-auth-oauthlib<0.5,>=0.4.1 in c:\\users\\swast\\anaconda3\\lib\\site-packages (from tensorboard->keras-tuner>=1.1.0->autokeras) (0.4.6)\n",
      "Requirement already satisfied: google-auth<3,>=1.6.3 in c:\\users\\swast\\anaconda3\\lib\\site-packages (from tensorboard->keras-tuner>=1.1.0->autokeras) (1.33.0)\n",
      "Requirement already satisfied: werkzeug>=1.0.1 in c:\\users\\swast\\anaconda3\\lib\\site-packages (from tensorboard->keras-tuner>=1.1.0->autokeras) (2.0.3)\n",
      "Requirement already satisfied: markdown>=2.6.8 in c:\\users\\swast\\anaconda3\\lib\\site-packages (from tensorboard->keras-tuner>=1.1.0->autokeras) (3.3.4)\n",
      "Requirement already satisfied: urllib3<1.27,>=1.21.1 in c:\\users\\swast\\anaconda3\\lib\\site-packages (from requests->keras-tuner>=1.1.0->autokeras) (1.26.9)\n",
      "Requirement already satisfied: certifi>=2017.4.17 in c:\\users\\swast\\anaconda3\\lib\\site-packages (from requests->keras-tuner>=1.1.0->autokeras) (2022.12.7)\n",
      "Requirement already satisfied: charset-normalizer~=2.0.0 in c:\\users\\swast\\anaconda3\\lib\\site-packages (from requests->keras-tuner>=1.1.0->autokeras) (2.0.4)\n",
      "Requirement already satisfied: idna<4,>=2.5 in c:\\users\\swast\\anaconda3\\lib\\site-packages (from requests->keras-tuner>=1.1.0->autokeras) (3.3)\n",
      "Requirement already satisfied: pygments>=2.4.0 in c:\\users\\swast\\anaconda3\\lib\\site-packages (from ipython->keras-tuner>=1.1.0->autokeras) (2.11.2)\n",
      "Requirement already satisfied: stack-data in c:\\users\\swast\\anaconda3\\lib\\site-packages (from ipython->keras-tuner>=1.1.0->autokeras) (0.2.0)\n",
      "Requirement already satisfied: traitlets>=5 in c:\\users\\swast\\anaconda3\\lib\\site-packages (from ipython->keras-tuner>=1.1.0->autokeras) (5.1.1)\n",
      "Requirement already satisfied: backcall in c:\\users\\swast\\anaconda3\\lib\\site-packages (from ipython->keras-tuner>=1.1.0->autokeras) (0.2.0)\n",
      "Requirement already satisfied: jedi>=0.16 in c:\\users\\swast\\anaconda3\\lib\\site-packages (from ipython->keras-tuner>=1.1.0->autokeras) (0.18.1)\n",
      "Requirement already satisfied: colorama in c:\\users\\swast\\anaconda3\\lib\\site-packages (from ipython->keras-tuner>=1.1.0->autokeras) (0.4.4)\n",
      "Requirement already satisfied: decorator in c:\\users\\swast\\anaconda3\\lib\\site-packages (from ipython->keras-tuner>=1.1.0->autokeras) (5.1.1)\n",
      "Requirement already satisfied: pickleshare in c:\\users\\swast\\anaconda3\\lib\\site-packages (from ipython->keras-tuner>=1.1.0->autokeras) (0.7.5)\n",
      "Requirement already satisfied: matplotlib-inline in c:\\users\\swast\\anaconda3\\lib\\site-packages (from ipython->keras-tuner>=1.1.0->autokeras) (0.1.2)\n",
      "Requirement already satisfied: prompt-toolkit!=3.0.0,!=3.0.1,<3.1.0,>=2.0.0 in c:\\users\\swast\\anaconda3\\lib\\site-packages (from ipython->keras-tuner>=1.1.0->autokeras) (3.0.20)\n",
      "Requirement already satisfied: rsa<5,>=3.1.4 in c:\\users\\swast\\anaconda3\\lib\\site-packages (from google-auth<3,>=1.6.3->tensorboard->keras-tuner>=1.1.0->autokeras) (4.7.2)\n",
      "Requirement already satisfied: pyasn1-modules>=0.2.1 in c:\\users\\swast\\anaconda3\\lib\\site-packages (from google-auth<3,>=1.6.3->tensorboard->keras-tuner>=1.1.0->autokeras) (0.2.8)\n",
      "Requirement already satisfied: cachetools<5.0,>=2.0.0 in c:\\users\\swast\\anaconda3\\lib\\site-packages (from google-auth<3,>=1.6.3->tensorboard->keras-tuner>=1.1.0->autokeras) (4.2.2)\n",
      "Requirement already satisfied: requests-oauthlib>=0.7.0 in c:\\users\\swast\\anaconda3\\lib\\site-packages (from google-auth-oauthlib<0.5,>=0.4.1->tensorboard->keras-tuner>=1.1.0->autokeras) (1.3.1)\n",
      "Requirement already satisfied: parso<0.9.0,>=0.8.0 in c:\\users\\swast\\anaconda3\\lib\\site-packages (from jedi>=0.16->ipython->keras-tuner>=1.1.0->autokeras) (0.8.3)\n",
      "Requirement already satisfied: wcwidth in c:\\users\\swast\\anaconda3\\lib\\site-packages (from prompt-toolkit!=3.0.0,!=3.0.1,<3.1.0,>=2.0.0->ipython->keras-tuner>=1.1.0->autokeras) (0.2.5)\n",
      "Requirement already satisfied: asttokens in c:\\users\\swast\\anaconda3\\lib\\site-packages (from stack-data->ipython->keras-tuner>=1.1.0->autokeras) (2.0.5)\n",
      "Requirement already satisfied: executing in c:\\users\\swast\\anaconda3\\lib\\site-packages (from stack-data->ipython->keras-tuner>=1.1.0->autokeras) (0.8.3)\n",
      "Requirement already satisfied: pure-eval in c:\\users\\swast\\anaconda3\\lib\\site-packages (from stack-data->ipython->keras-tuner>=1.1.0->autokeras) (0.2.2)\n",
      "Requirement already satisfied: pyasn1<0.5.0,>=0.4.6 in c:\\users\\swast\\anaconda3\\lib\\site-packages (from pyasn1-modules>=0.2.1->google-auth<3,>=1.6.3->tensorboard->keras-tuner>=1.1.0->autokeras) (0.4.8)\n",
      "Requirement already satisfied: oauthlib>=3.0.0 in c:\\users\\swast\\anaconda3\\lib\\site-packages (from requests-oauthlib>=0.7.0->google-auth-oauthlib<0.5,>=0.4.1->tensorboard->keras-tuner>=1.1.0->autokeras) (3.2.0)\n",
      "Note: you may need to restart the kernel to use updated packages.\n"
     ]
    }
   ],
   "source": [
    "import numpy as np\n",
    "import pandas as pd\n",
    "from sklearn.model_selection import train_test_split\n",
    "from sklearn.preprocessing import MinMaxScaler\n",
    "from sklearn.impute import SimpleImputer\n",
    "import torch\n",
    "import matplotlib.pyplot as plt\n",
    "import seaborn as sns\n",
    "%pip install torchmetrics\n",
    "from torchmetrics.classification import BinaryAccuracy\n",
    "import datetime\n",
    "from sklearn.ensemble import RandomForestClassifier\n",
    "from sklearn.ensemble import GradientBoostingClassifier\n",
    "import pandas as pd\n",
    "import tensorflow as tf\n",
    "%pip install autokeras\n",
    "import autokeras as ak"
   ]
  },
  {
   "cell_type": "markdown",
   "id": "92c71ca3",
   "metadata": {
    "id": "92c71ca3"
   },
   "source": [
    "#### Data preprocessing"
   ]
  },
  {
   "cell_type": "markdown",
   "id": "e97e420e",
   "metadata": {
    "id": "e97e420e"
   },
   "source": [
    "**Load the datatset**"
   ]
  },
  {
   "cell_type": "code",
   "execution_count": 6,
   "id": "cacec562",
   "metadata": {
    "id": "cacec562",
    "outputId": "faca646b-afa9-4e7a-ccb8-cd14d96b5cb3"
   },
   "outputs": [
    {
     "data": {
      "text/html": [
       "<div>\n",
       "<style scoped>\n",
       "    .dataframe tbody tr th:only-of-type {\n",
       "        vertical-align: middle;\n",
       "    }\n",
       "\n",
       "    .dataframe tbody tr th {\n",
       "        vertical-align: top;\n",
       "    }\n",
       "\n",
       "    .dataframe thead th {\n",
       "        text-align: right;\n",
       "    }\n",
       "</style>\n",
       "<table border=\"1\" class=\"dataframe\">\n",
       "  <thead>\n",
       "    <tr style=\"text-align: right;\">\n",
       "      <th></th>\n",
       "      <th>Are you self-employed?</th>\n",
       "      <th>How many employees does your company or organization have?</th>\n",
       "      <th>Is your employer primarily a tech company/organization?</th>\n",
       "      <th>Is your primary role within your company related to tech/IT?</th>\n",
       "      <th>Does your employer provide mental health benefits as part of healthcare coverage?</th>\n",
       "      <th>Do you know the options for mental health care available under your employer-provided coverage?</th>\n",
       "      <th>Has your employer ever formally discussed mental health (for example, as part of a wellness campaign or other official communication)?</th>\n",
       "      <th>Does your employer offer resources to learn more about mental health concerns and options for seeking help?</th>\n",
       "      <th>If a mental health issue prompted you to request a medical leave from work, asking for that leave would be:</th>\n",
       "      <th>Would you feel comfortable discussing a mental health disorder with your coworkers?</th>\n",
       "      <th>...</th>\n",
       "      <th>If you have a mental health issue, do you feel that it interferes with your work when being treated effectively?</th>\n",
       "      <th>If you have a mental health issue, do you feel that it interferes with your work when NOT being treated effectively?</th>\n",
       "      <th>What is your age?</th>\n",
       "      <th>What is your gender?</th>\n",
       "      <th>What country do you live in?</th>\n",
       "      <th>What US state or territory do you live in?</th>\n",
       "      <th>What country do you work in?</th>\n",
       "      <th>What US state or territory do you work in?</th>\n",
       "      <th>Which of the following best describes your work position?</th>\n",
       "      <th>Do you work remotely?</th>\n",
       "    </tr>\n",
       "  </thead>\n",
       "  <tbody>\n",
       "    <tr>\n",
       "      <th>0</th>\n",
       "      <td>0</td>\n",
       "      <td>1 to 5</td>\n",
       "      <td>1.0</td>\n",
       "      <td>NaN</td>\n",
       "      <td>Yes</td>\n",
       "      <td>Yes</td>\n",
       "      <td>No</td>\n",
       "      <td>No</td>\n",
       "      <td>Somewhat difficult</td>\n",
       "      <td>Maybe</td>\n",
       "      <td>...</td>\n",
       "      <td>Sometimes</td>\n",
       "      <td>Often</td>\n",
       "      <td>33</td>\n",
       "      <td>Male</td>\n",
       "      <td>Canada</td>\n",
       "      <td>NaN</td>\n",
       "      <td>Canada</td>\n",
       "      <td>NaN</td>\n",
       "      <td>Back-end Developer</td>\n",
       "      <td>Sometimes</td>\n",
       "    </tr>\n",
       "    <tr>\n",
       "      <th>1</th>\n",
       "      <td>0</td>\n",
       "      <td>1 to 5</td>\n",
       "      <td>1.0</td>\n",
       "      <td>NaN</td>\n",
       "      <td>No</td>\n",
       "      <td>No</td>\n",
       "      <td>No</td>\n",
       "      <td>I don't know</td>\n",
       "      <td>Very easy</td>\n",
       "      <td>Yes</td>\n",
       "      <td>...</td>\n",
       "      <td>Not applicable to me</td>\n",
       "      <td>Not applicable to me</td>\n",
       "      <td>40</td>\n",
       "      <td>male</td>\n",
       "      <td>Netherlands</td>\n",
       "      <td>NaN</td>\n",
       "      <td>Netherlands</td>\n",
       "      <td>NaN</td>\n",
       "      <td>Front-end Developer|Back-end Developer</td>\n",
       "      <td>Sometimes</td>\n",
       "    </tr>\n",
       "    <tr>\n",
       "      <th>2</th>\n",
       "      <td>0</td>\n",
       "      <td>1 to 5</td>\n",
       "      <td>1.0</td>\n",
       "      <td>NaN</td>\n",
       "      <td>Yes</td>\n",
       "      <td>Yes</td>\n",
       "      <td>No</td>\n",
       "      <td>I don't know</td>\n",
       "      <td>I don't know</td>\n",
       "      <td>Maybe</td>\n",
       "      <td>...</td>\n",
       "      <td>Not applicable to me</td>\n",
       "      <td>Not applicable to me</td>\n",
       "      <td>21</td>\n",
       "      <td>male</td>\n",
       "      <td>United Kingdom</td>\n",
       "      <td>NaN</td>\n",
       "      <td>United Kingdom</td>\n",
       "      <td>NaN</td>\n",
       "      <td>Back-end Developer|DevOps/SysAdmin</td>\n",
       "      <td>Never</td>\n",
       "    </tr>\n",
       "    <tr>\n",
       "      <th>3</th>\n",
       "      <td>0</td>\n",
       "      <td>1 to 5</td>\n",
       "      <td>1.0</td>\n",
       "      <td>NaN</td>\n",
       "      <td>No</td>\n",
       "      <td>No</td>\n",
       "      <td>No</td>\n",
       "      <td>No</td>\n",
       "      <td>Very difficult</td>\n",
       "      <td>No</td>\n",
       "      <td>...</td>\n",
       "      <td>Often</td>\n",
       "      <td>Often</td>\n",
       "      <td>36</td>\n",
       "      <td>Male</td>\n",
       "      <td>Brazil</td>\n",
       "      <td>NaN</td>\n",
       "      <td>Brazil</td>\n",
       "      <td>NaN</td>\n",
       "      <td>Back-end Developer</td>\n",
       "      <td>Never</td>\n",
       "    </tr>\n",
       "    <tr>\n",
       "      <th>4</th>\n",
       "      <td>0</td>\n",
       "      <td>1 to 5</td>\n",
       "      <td>0.0</td>\n",
       "      <td>1.0</td>\n",
       "      <td>I don't know</td>\n",
       "      <td>No</td>\n",
       "      <td>Yes</td>\n",
       "      <td>No</td>\n",
       "      <td>Very difficult</td>\n",
       "      <td>Yes</td>\n",
       "      <td>...</td>\n",
       "      <td>Not applicable to me</td>\n",
       "      <td>Often</td>\n",
       "      <td>36</td>\n",
       "      <td>F</td>\n",
       "      <td>United States of America</td>\n",
       "      <td>Indiana</td>\n",
       "      <td>United States of America</td>\n",
       "      <td>Indiana</td>\n",
       "      <td>Other</td>\n",
       "      <td>Sometimes</td>\n",
       "    </tr>\n",
       "  </tbody>\n",
       "</table>\n",
       "<p>5 rows × 31 columns</p>\n",
       "</div>"
      ],
      "text/plain": [
       "   Are you self-employed?  \\\n",
       "0                       0   \n",
       "1                       0   \n",
       "2                       0   \n",
       "3                       0   \n",
       "4                       0   \n",
       "\n",
       "  How many employees does your company or organization have?  \\\n",
       "0                                             1 to 5           \n",
       "1                                             1 to 5           \n",
       "2                                             1 to 5           \n",
       "3                                             1 to 5           \n",
       "4                                             1 to 5           \n",
       "\n",
       "   Is your employer primarily a tech company/organization?  \\\n",
       "0                                                1.0         \n",
       "1                                                1.0         \n",
       "2                                                1.0         \n",
       "3                                                1.0         \n",
       "4                                                0.0         \n",
       "\n",
       "   Is your primary role within your company related to tech/IT?  \\\n",
       "0                                                NaN              \n",
       "1                                                NaN              \n",
       "2                                                NaN              \n",
       "3                                                NaN              \n",
       "4                                                1.0              \n",
       "\n",
       "  Does your employer provide mental health benefits as part of healthcare coverage?  \\\n",
       "0                                                Yes                                  \n",
       "1                                                 No                                  \n",
       "2                                                Yes                                  \n",
       "3                                                 No                                  \n",
       "4                                       I don't know                                  \n",
       "\n",
       "  Do you know the options for mental health care available under your employer-provided coverage?  \\\n",
       "0                                                Yes                                                \n",
       "1                                                 No                                                \n",
       "2                                                Yes                                                \n",
       "3                                                 No                                                \n",
       "4                                                 No                                                \n",
       "\n",
       "  Has your employer ever formally discussed mental health (for example, as part of a wellness campaign or other official communication)?  \\\n",
       "0                                                 No                                                                                       \n",
       "1                                                 No                                                                                       \n",
       "2                                                 No                                                                                       \n",
       "3                                                 No                                                                                       \n",
       "4                                                Yes                                                                                       \n",
       "\n",
       "  Does your employer offer resources to learn more about mental health concerns and options for seeking help?  \\\n",
       "0                                                 No                                                            \n",
       "1                                       I don't know                                                            \n",
       "2                                       I don't know                                                            \n",
       "3                                                 No                                                            \n",
       "4                                                 No                                                            \n",
       "\n",
       "  If a mental health issue prompted you to request a medical leave from work, asking for that leave would be:  \\\n",
       "0                                 Somewhat difficult                                                            \n",
       "1                                          Very easy                                                            \n",
       "2                                       I don't know                                                            \n",
       "3                                     Very difficult                                                            \n",
       "4                                     Very difficult                                                            \n",
       "\n",
       "  Would you feel comfortable discussing a mental health disorder with your coworkers?  \\\n",
       "0                                              Maybe                                    \n",
       "1                                                Yes                                    \n",
       "2                                              Maybe                                    \n",
       "3                                                 No                                    \n",
       "4                                                Yes                                    \n",
       "\n",
       "   ...  \\\n",
       "0  ...   \n",
       "1  ...   \n",
       "2  ...   \n",
       "3  ...   \n",
       "4  ...   \n",
       "\n",
       "  If you have a mental health issue, do you feel that it interferes with your work when being treated effectively?  \\\n",
       "0                                          Sometimes                                                                 \n",
       "1                               Not applicable to me                                                                 \n",
       "2                               Not applicable to me                                                                 \n",
       "3                                              Often                                                                 \n",
       "4                               Not applicable to me                                                                 \n",
       "\n",
       "  If you have a mental health issue, do you feel that it interferes with your work when NOT being treated effectively?  \\\n",
       "0                                              Often                                                                     \n",
       "1                               Not applicable to me                                                                     \n",
       "2                               Not applicable to me                                                                     \n",
       "3                                              Often                                                                     \n",
       "4                                              Often                                                                     \n",
       "\n",
       "  What is your age? What is your gender? What country do you live in?  \\\n",
       "0                33                 Male                       Canada   \n",
       "1                40                 male                  Netherlands   \n",
       "2                21                 male               United Kingdom   \n",
       "3                36                 Male                       Brazil   \n",
       "4                36                    F     United States of America   \n",
       "\n",
       "  What US state or territory do you live in? What country do you work in?  \\\n",
       "0                                        NaN                       Canada   \n",
       "1                                        NaN                  Netherlands   \n",
       "2                                        NaN               United Kingdom   \n",
       "3                                        NaN                       Brazil   \n",
       "4                                    Indiana     United States of America   \n",
       "\n",
       "  What US state or territory do you work in?  \\\n",
       "0                                        NaN   \n",
       "1                                        NaN   \n",
       "2                                        NaN   \n",
       "3                                        NaN   \n",
       "4                                    Indiana   \n",
       "\n",
       "  Which of the following best describes your work position?  \\\n",
       "0                                 Back-end Developer          \n",
       "1             Front-end Developer|Back-end Developer          \n",
       "2                 Back-end Developer|DevOps/SysAdmin          \n",
       "3                                 Back-end Developer          \n",
       "4                                              Other          \n",
       "\n",
       "  Do you work remotely?  \n",
       "0             Sometimes  \n",
       "1             Sometimes  \n",
       "2                 Never  \n",
       "3                 Never  \n",
       "4             Sometimes  \n",
       "\n",
       "[5 rows x 31 columns]"
      ]
     },
     "execution_count": 6,
     "metadata": {},
     "output_type": "execute_result"
    }
   ],
   "source": [
    "df = pd.read_csv(\"Mental Health Data.csv\")\n",
    "df.head()"
   ]
  },
  {
   "cell_type": "code",
   "execution_count": 7,
   "id": "c39bb301",
   "metadata": {
    "id": "c39bb301"
   },
   "outputs": [],
   "source": [
    "a = list(df.columns)\n",
    "b = [\n",
    "    \"self_employed\",\n",
    "    \"no_of_employees\",\n",
    "    \"tech_company\",\n",
    "    \"role_IT\",\n",
    "    \"mental_healthcare_coverage\",\n",
    "    \"knowledge_about_mental_healthcare_options_workplace\",\n",
    "    \"employer_discussed_mental_health \",\n",
    "    \"employer_offer_resources_to_learn_about_mental_health\",\n",
    "    \"medical_leave_from_work \",\n",
    "    \"comfortable_discussing_with_coworkers\",\n",
    "    \"employer_take_mental_health_seriously\",\n",
    "    \"knowledge_of_local_online_resources \",\n",
    "    \"productivity_affected_by_mental_health \",\n",
    "    \"percentage_work_time_affected_mental_health\",\n",
    "    \"openess_of_family_friends\",\n",
    "    \"family_history_mental_illness\",\n",
    "    \"mental_health_disorder_past\",\n",
    "    \"currently_mental_health_disorder\",\n",
    "    \"diagnosed_mental_health_condition\",\n",
    "    \"type_of_disorder\",\n",
    "    \"treatment_from_professional\",\n",
    "    \"while_effective_treatment_mental_health_issue_interferes_work\",\n",
    "    \"while_not_effective_treatment_interferes_work \",\n",
    "    \"age\",\n",
    "    \"gender\",\n",
    "    \"country\",\n",
    "    \"US state\",\n",
    "    \"country work \",\n",
    "    \"US state work\",\n",
    "    \"role_in_company\",\n",
    "    \"work_remotely\",\n",
    "]"
   ]
  },
  {
   "cell_type": "code",
   "execution_count": 8,
   "id": "de2ee84d",
   "metadata": {
    "id": "de2ee84d"
   },
   "outputs": [],
   "source": [
    "for i, j in zip(a, b):\n",
    "    df.rename(columns={i: j}, inplace=True)"
   ]
  },
  {
   "cell_type": "markdown",
   "id": "bf694693",
   "metadata": {
    "id": "bf694693"
   },
   "source": [
    "**Remove unnecessary columns**"
   ]
  },
  {
   "cell_type": "code",
   "execution_count": 9,
   "id": "d2ebe097",
   "metadata": {
    "id": "d2ebe097"
   },
   "outputs": [],
   "source": [
    "cols = [\n",
    "    \"role_IT\",\n",
    "    \"knowledge_of_local_online_resources \",\n",
    "    \"productivity_affected_by_mental_health \",\n",
    "    \"percentage_work_time_affected_mental_health\",\n",
    "    \"type_of_disorder\",\n",
    "    \"US state\",\n",
    "    \"US state work\",\n",
    "]"
   ]
  },
  {
   "cell_type": "code",
   "execution_count": 10,
   "id": "6b9555ea",
   "metadata": {
    "id": "6b9555ea"
   },
   "outputs": [],
   "source": [
    "df = df.drop(cols, axis=1)"
   ]
  },
  {
   "cell_type": "markdown",
   "id": "e62ac541",
   "metadata": {
    "id": "e62ac541"
   },
   "source": [
    "**Clean no_of_employees column**"
   ]
  },
  {
   "cell_type": "code",
   "execution_count": 11,
   "id": "cb95c51b",
   "metadata": {
    "id": "cb95c51b",
    "outputId": "4b22c345-8b8f-4157-a48c-e4dd94529af6"
   },
   "outputs": [
    {
     "data": {
      "text/plain": [
       "array(['1 to 5', '6 to 25', '26-99', '100-500', '26-100', '500-1000',\n",
       "       'More than 1000', nan], dtype=object)"
      ]
     },
     "execution_count": 11,
     "metadata": {},
     "output_type": "execute_result"
    }
   ],
   "source": [
    "df[\"no_of_employees\"].unique()"
   ]
  },
  {
   "cell_type": "code",
   "execution_count": 12,
   "id": "dbc0f18e",
   "metadata": {
    "id": "dbc0f18e",
    "outputId": "275c832a-a572-4a43-af58-ed0f854ad512"
   },
   "outputs": [
    {
     "data": {
      "text/plain": [
       "array(['1-5', '6-25', '26-100', '100-500', '500-1000', '>1000', nan],\n",
       "      dtype=object)"
      ]
     },
     "execution_count": 12,
     "metadata": {},
     "output_type": "execute_result"
    }
   ],
   "source": [
    "df[\"no_of_employees\"].replace(\n",
    "    to_replace=[\"1 to 5\", \"6 to 25\", \"More than 1000\", \"26-99\"],\n",
    "    value=[\"1-5\", \"6-25\", \">1000\", \"26-100\"],\n",
    "    inplace=True,\n",
    ")\n",
    "df.no_of_employees.unique()"
   ]
  },
  {
   "cell_type": "markdown",
   "id": "935e71d4",
   "metadata": {
    "id": "935e71d4"
   },
   "source": [
    "**Clean mental_healthcare_coverage column**"
   ]
  },
  {
   "cell_type": "code",
   "execution_count": 13,
   "id": "65aee660",
   "metadata": {
    "id": "65aee660",
    "outputId": "0c781e01-827c-44cb-9e5b-6de922d39287"
   },
   "outputs": [
    {
     "data": {
      "text/plain": [
       "array(['Yes', 'No', \"I don't know\", 'Not eligible for coverage / N/A',\n",
       "       nan], dtype=object)"
      ]
     },
     "execution_count": 13,
     "metadata": {},
     "output_type": "execute_result"
    }
   ],
   "source": [
    "df[\"mental_healthcare_coverage\"].unique()"
   ]
  },
  {
   "cell_type": "code",
   "execution_count": 14,
   "id": "a6e067c8",
   "metadata": {
    "id": "a6e067c8",
    "outputId": "5a950638-642c-4508-fb6f-0beb654731b4"
   },
   "outputs": [
    {
     "data": {
      "text/plain": [
       "array(['Yes', 'No', \"I don't know\", nan], dtype=object)"
      ]
     },
     "execution_count": 14,
     "metadata": {},
     "output_type": "execute_result"
    }
   ],
   "source": [
    "df[\"mental_healthcare_coverage\"].replace(\n",
    "    to_replace=[\"Not eligible for coverage / N/A\"], value=\"No\", inplace=True\n",
    ")\n",
    "df[\"mental_healthcare_coverage\"].unique()"
   ]
  },
  {
   "cell_type": "markdown",
   "id": "ebc86bfc",
   "metadata": {
    "id": "ebc86bfc"
   },
   "source": [
    "**Clean openess_of_family_friends column**"
   ]
  },
  {
   "cell_type": "code",
   "execution_count": 15,
   "id": "aa36c9d7",
   "metadata": {
    "id": "aa36c9d7",
    "outputId": "7bed5a06-26b4-4d9c-fd04-eeba4e383477"
   },
   "outputs": [
    {
     "data": {
      "text/plain": [
       "array(['Somewhat open', 'Very open', 'Somewhat not open', 'Neutral',\n",
       "       'Not applicable to me (I do not have a mental illness)',\n",
       "       'Not open at all'], dtype=object)"
      ]
     },
     "execution_count": 15,
     "metadata": {},
     "output_type": "execute_result"
    }
   ],
   "source": [
    "df[\"openess_of_family_friends\"].unique()"
   ]
  },
  {
   "cell_type": "code",
   "execution_count": 16,
   "id": "16b7d95f",
   "metadata": {
    "id": "16b7d95f",
    "outputId": "bc46b448-246f-451f-b83f-bf4cb543442a"
   },
   "outputs": [
    {
     "data": {
      "text/plain": [
       "array(['Somewhat open', 'Very open', 'Somewhat not open', 'Neutral',\n",
       "       \"I don't know\", 'Not open at all'], dtype=object)"
      ]
     },
     "execution_count": 16,
     "metadata": {},
     "output_type": "execute_result"
    }
   ],
   "source": [
    "df[\"openess_of_family_friends\"].replace(\n",
    "    to_replace=[\"Not applicable to me (I do not have a mental illness)\"],\n",
    "    value=\"I don't know\",\n",
    "    inplace=True,\n",
    ")\n",
    "df[\"openess_of_family_friends\"].unique()"
   ]
  },
  {
   "cell_type": "markdown",
   "id": "1abd8b1c",
   "metadata": {
    "id": "1abd8b1c"
   },
   "source": [
    "**Clean age column**"
   ]
  },
  {
   "cell_type": "code",
   "execution_count": 17,
   "id": "8f1af352",
   "metadata": {
    "id": "8f1af352",
    "outputId": "bcc6939e-1ad7-439e-9a99-12bc11c2970f"
   },
   "outputs": [
    {
     "data": {
      "text/plain": [
       "30     94\n",
       "31     82\n",
       "29     79\n",
       "28     74\n",
       "35     74\n",
       "32     72\n",
       "33     69\n",
       "34     69\n",
       "26     64\n",
       "27     63\n",
       "37     59\n",
       "39     55\n",
       "38     54\n",
       "36     50\n",
       "25     44\n",
       "24     42\n",
       "40     36\n",
       "22     32\n",
       "44     31\n",
       "43     30\n",
       "42     29\n",
       "45     27\n",
       "23     24\n",
       "41     24\n",
       "46     22\n",
       "21     15\n",
       "47     14\n",
       "49     13\n",
       "55     12\n",
       "48      9\n",
       "50      9\n",
       "54      7\n",
       "52      7\n",
       "51      7\n",
       "20      6\n",
       "56      5\n",
       "63      4\n",
       "57      4\n",
       "19      4\n",
       "53      3\n",
       "61      2\n",
       "59      2\n",
       "66      1\n",
       "17      1\n",
       "323     1\n",
       "74      1\n",
       "58      1\n",
       "70      1\n",
       "62      1\n",
       "3       1\n",
       "99      1\n",
       "15      1\n",
       "65      1\n",
       "Name: age, dtype: int64"
      ]
     },
     "execution_count": 17,
     "metadata": {},
     "output_type": "execute_result"
    }
   ],
   "source": [
    "df[\"age\"].value_counts()"
   ]
  },
  {
   "cell_type": "code",
   "execution_count": 18,
   "id": "62a74b9f",
   "metadata": {
    "id": "62a74b9f"
   },
   "outputs": [],
   "source": [
    "# Replace the values in the age column that are outside \n",
    "# the range 18 to 75 with the median age\n",
    "med_age = df[(df[\"age\"] >= 18) | (df[\"age\"] <= 75)][\"age\"].median()\n",
    "df[\"age\"].replace(\n",
    "    to_replace=df[(df[\"age\"] < 18) | (df[\"age\"] > 75)][\"age\"].tolist(),\n",
    "    value=med_age,\n",
    "    inplace=True,\n",
    ")\n",
    "\n",
    "# Define the scaler object\n",
    "scaler = MinMaxScaler()\n",
    "\n",
    "# Fit and transform the 'age' column\n",
    "df[\"age\"] = scaler.fit_transform(df[[\"age\"]])"
   ]
  },
  {
   "cell_type": "markdown",
   "id": "18f15c0a",
   "metadata": {
    "id": "18f15c0a"
   },
   "source": [
    "**Clean gender column**"
   ]
  },
  {
   "cell_type": "code",
   "execution_count": 19,
   "id": "20595b11",
   "metadata": {
    "id": "20595b11",
    "outputId": "5fe8e4f5-3ffa-4e47-f0ee-d34a03d50761"
   },
   "outputs": [
    {
     "data": {
      "text/plain": [
       "array(['Male', 'male', 'F', 'Transitioned, M2F', 'Other/Transfeminine',\n",
       "       'M', 'female', 'm', 'Female', 'f', 'non-binary', 'woman', 'male ',\n",
       "       'Male ', 'Bigender', 'Genderfluid (born female)',\n",
       "       'male 9:1 female, roughly', 'Male (cis)', 'Other', 'Sex is male',\n",
       "       'genderqueer', 'Human', 'mail', 'Cis-woman',\n",
       "       'female-bodied; no feelings about gender', 'Transgender woman',\n",
       "       'Genderfluid', 'female ', 'Male/genderqueer', 'fem', 'Nonbinary',\n",
       "       ' Female', 'Female ', 'Genderqueer', nan, 'I identify as female.',\n",
       "       'fm', 'Cis female ', 'female/woman', 'Androgynous', 'man',\n",
       "       'nb masculine', 'Cisgender Female', 'Woman', 'Cis Male',\n",
       "       'Female or Multi-Gender Femme', 'Male.', 'Enby', 'Agender',\n",
       "       'Female (props for making this a freeform field, though)',\n",
       "       'cis man', 'Female assigned at birth ', 'Cis male', 'Man',\n",
       "       'none of your business', 'cis male', 'genderqueer woman', 'Queer',\n",
       "       'Dude', 'Male (trans, FtM)', 'cisdude', 'Genderflux demi-girl',\n",
       "       'Malr', 'mtf', 'Fluid',\n",
       "       \"I'm a man why didn't you make this a drop down question. You should of asked sex? And I would of answered yes please. Seriously how much text can this take? \",\n",
       "       'M|', 'human', 'Unicorn', 'AFAB', 'MALE'], dtype=object)"
      ]
     },
     "execution_count": 19,
     "metadata": {},
     "output_type": "execute_result"
    }
   ],
   "source": [
    "df[\"gender\"].unique()"
   ]
  },
  {
   "cell_type": "code",
   "execution_count": 20,
   "id": "6a76f805",
   "metadata": {
    "id": "6a76f805",
    "outputId": "fcd1bdbe-bc43-4e68-950c-7c1a012fcad1"
   },
   "outputs": [
    {
     "data": {
      "text/plain": [
       "array(['male', 'female', 'other', nan], dtype=object)"
      ]
     },
     "execution_count": 20,
     "metadata": {},
     "output_type": "execute_result"
    }
   ],
   "source": [
    "df[\"gender\"].replace(\n",
    "    to_replace=[\n",
    "        \"Male\",\n",
    "        \"male\",\n",
    "        \"Male \",\n",
    "        \"M\",\n",
    "        \"m\",\n",
    "        \"man\",\n",
    "        \"Cis male\",\n",
    "        \"Male.\",\n",
    "        \"male 9:1 female, roughly\",\n",
    "        \"Male (cis)\",\n",
    "        \"Man\",\n",
    "        \"Sex is male\",\n",
    "        \"cis male\",\n",
    "        \"Malr\",\n",
    "        \"Dude\",\n",
    "        \"I'm a man why didn't you make this a drop down question. You should of asked sex? And I would of answered yes please. Seriously how much text can this take? \",\n",
    "        \"mail\",\n",
    "        \"M|\",\n",
    "        \"Male/genderqueer\",\n",
    "        \"male \",\n",
    "        \"Cis Male\",\n",
    "        \"Male (trans, FtM)\",\n",
    "        \"cisdude\",\n",
    "        \"cis man\",\n",
    "        \"MALE\",\n",
    "    ],\n",
    "    value=\"male\",\n",
    "    inplace=True,\n",
    ")\n",
    "df[\"gender\"].replace(\n",
    "    to_replace=[\n",
    "        \"Female\",\n",
    "        \"female\",\n",
    "        \"I identify as female.\",\n",
    "        \"female \",\n",
    "        \"Female assigned at birth \",\n",
    "        \"F\",\n",
    "        \"Woman\",\n",
    "        \"fm\",\n",
    "        \"f\",\n",
    "        \"Cis female \",\n",
    "        \"Transitioned, M2F\",\n",
    "        \"Genderfluid (born female)\",\n",
    "        \"Female or Multi-Gender Femme\",\n",
    "        \"Female \",\n",
    "        \"woman\",\n",
    "        \"female/woman\",\n",
    "        \"Cisgender Female\",\n",
    "        \"fem\",\n",
    "        \"Female (props for making this a freeform field, though)\",\n",
    "        \" Female\",\n",
    "        \"Cis-woman\",\n",
    "        \"female-bodied; no feelings about gender\",\n",
    "        \"AFAB\",\n",
    "    ],\n",
    "    value=\"female\",\n",
    "    inplace=True,\n",
    ")\n",
    "df[\"gender\"].replace(\n",
    "    to_replace=[\n",
    "        \"Bigender\",\n",
    "        \"non-binary\",\n",
    "        \"Other/Transfeminine\",\n",
    "        \"Androgynous\",\n",
    "        \"Other\",\n",
    "        \"nb masculine\",\n",
    "        \"none of your business\",\n",
    "        \"genderqueer\",\n",
    "        \"Human\",\n",
    "        \"Genderfluid\",\n",
    "        \"Enby\",\n",
    "        \"genderqueer woman\",\n",
    "        \"mtf\",\n",
    "        \"Queer\",\n",
    "        \"Agender\",\n",
    "        \"Fluid\",\n",
    "        \"Nonbinary\",\n",
    "        \"human\",\n",
    "        \"Unicorn\",\n",
    "        \"Genderqueer\",\n",
    "        \"Genderflux demi-girl\",\n",
    "        \"Transgender woman\",\n",
    "    ],\n",
    "    value=\"other\",\n",
    "    inplace=True,\n",
    ")\n",
    "df[\"gender\"].unique()"
   ]
  },
  {
   "cell_type": "code",
   "execution_count": 21,
   "id": "2660dbc6",
   "metadata": {
    "id": "2660dbc6"
   },
   "outputs": [],
   "source": [
    "tech_list = []\n",
    "tech_list.append(\n",
    "    df[df[\"role_in_company\"].str.contains(\"Back-end\")][\"role_in_company\"].tolist()\n",
    ")\n",
    "tech_list.append(\n",
    "    df[df[\"role_in_company\"].str.contains(\"Front-end\")][\"role_in_company\"].tolist()\n",
    ")\n",
    "tech_list.append(\n",
    "    df[df[\"role_in_company\"].str.contains(\"Dev\")][\"role_in_company\"].tolist()\n",
    ")\n",
    "tech_list.append(\n",
    "    df[df[\"role_in_company\"].str.contains(\"DevOps\")][\"role_in_company\"].tolist()\n",
    ")\n",
    "flat_list = [item for sublist in tech_list for item in sublist]\n",
    "flat_list = list(dict.fromkeys(flat_list))\n",
    "\n",
    "df[\"tech_role\"] = df[\"role_in_company\"]\n",
    "df[\"tech_role\"].replace(to_replace=flat_list, value=1, inplace=True)\n",
    "remain_list = df[\"tech_role\"].unique()[1:]\n",
    "df[\"tech_role\"].replace(to_replace=remain_list, value=0, inplace=True)\n",
    "\n",
    "\n",
    "df = df.drop([\"role_in_company\"], axis=1)"
   ]
  },
  {
   "cell_type": "code",
   "execution_count": 22,
   "id": "018b79e3",
   "metadata": {
    "id": "018b79e3"
   },
   "outputs": [],
   "source": [
    "imp = SimpleImputer(missing_values=np.nan, strategy=\"most_frequent\")\n",
    "imp.fit(df)\n",
    "df = pd.DataFrame(data=imp.transform(df), columns=df.columns)\n",
    "df[\"age\"] = df[\"age\"].astype(float)"
   ]
  },
  {
   "cell_type": "markdown",
   "id": "70fde8cc",
   "metadata": {
    "id": "70fde8cc"
   },
   "source": [
    "#### Data visualization"
   ]
  },
  {
   "cell_type": "markdown",
   "id": "9bbea72d",
   "metadata": {
    "id": "9bbea72d"
   },
   "source": [
    "**Effects of self employment:**\n",
    "\n",
    "Self employed people are slightly more prone to mental health issues."
   ]
  },
  {
   "cell_type": "code",
   "execution_count": 23,
   "id": "09b6f58d",
   "metadata": {
    "id": "09b6f58d",
    "outputId": "c79f37c6-d0b3-436a-c29f-deed29a0c331"
   },
   "outputs": [
    {
     "data": {
      "image/png": "[encoded data removed]",
      "text/plain": [
       "<Figure size 576x576 with 2 Axes>"
      ]
     },
     "metadata": {},
     "output_type": "display_data"
    }
   ],
   "source": [
    "plt.figure(figsize=(8,8))\n",
    "plt.subplot(1, 2, 1)\n",
    "plt.title(\"Self employed\")\n",
    "plt.pie(df[df.self_employed == 1]['diagnosed_mental_health_condition'].value_counts(),\n",
    "    autopct = '%1f%%', radius = 1,\n",
    "    labels = df[df.self_employed == 1]['diagnosed_mental_health_condition'].value_counts().index)\n",
    "\n",
    "plt.subplot(1, 2, 2)\n",
    "plt.title(\"Not Self employed\")\n",
    "plt.pie(df[df.self_employed == 0]['diagnosed_mental_health_condition'].value_counts(),\n",
    "    autopct = '%1f%%', radius = 1,\n",
    "    labels = df[df.self_employed == 0]['diagnosed_mental_health_condition'].value_counts().index)\n",
    "# center the legend to the top right of the plot\n",
    "plt.legend(title=\"diagnosed_mental_health_condition\", bbox_to_anchor=(0.90, 1.0))\n",
    "\n",
    "plt.savefig('outputs/self_employed.png')"
   ]
  },
  {
   "cell_type": "markdown",
   "id": "bdf7ea29",
   "metadata": {
    "id": "bdf7ea29"
   },
   "source": [
    "**Effect of company size on mental health:**"
   ]
  },
  {
   "cell_type": "code",
   "execution_count": 24,
   "id": "ad29fce3",
   "metadata": {
    "id": "ad29fce3",
    "outputId": "9f51b7cb-917e-4f01-c135-f31c6ddad27b"
   },
   "outputs": [
    {
     "data": {
      "image/png": "[encoded data removed]",
      "text/plain": [
       "<Figure size 576x576 with 1 Axes>"
      ]
     },
     "metadata": {
      "needs_background": "light"
     },
     "output_type": "display_data"
    }
   ],
   "source": [
    "plt.figure(figsize=(8,8))\n",
    "sns.countplot(data=df, x='no_of_employees', hue='diagnosed_mental_health_condition')\n",
    "plt.xlabel(\"Number of employees\")\n",
    "plt.title('Effect of company size on mental health')\n",
    "plt.savefig('outputs/company_size.png')"
   ]
  },
  {
   "cell_type": "markdown",
   "id": "bb73039e",
   "metadata": {
    "id": "bb73039e"
   },
   "source": [
    "**Impact of Company-Provided Resources on Employee Mental Health**"
   ]
  },
  {
   "cell_type": "code",
   "execution_count": 25,
   "id": "1957c906",
   "metadata": {
    "id": "1957c906",
    "outputId": "5d66692c-8fbe-4d66-9e70-b7e36a20ad30"
   },
   "outputs": [
    {
     "data": {
      "image/png": "[encoded data removed]",
      "text/plain": [
       "<Figure size 432x288 with 1 Axes>"
      ]
     },
     "metadata": {
      "needs_background": "light"
     },
     "output_type": "display_data"
    }
   ],
   "source": [
    "sns.countplot(data=df,x='employer_offer_resources_to_learn_about_mental_health',hue='diagnosed_mental_health_condition')\n",
    "plt.xlabel(\"Does your employer offer resources to learn more about mental health concerns and options for seeking help?\")\n",
    "plt.title('Effect of resources offered by company on mental health')\n",
    "plt.savefig('outputs/employer_resources.png')"
   ]
  },
  {
   "cell_type": "markdown",
   "id": "ab192d92",
   "metadata": {
    "id": "ab192d92"
   },
   "source": [
    "**Impact of Family History of Mental Illness on Current Mental Health Status**"
   ]
  },
  {
   "cell_type": "code",
   "execution_count": 26,
   "id": "8b57191c",
   "metadata": {
    "id": "8b57191c",
    "outputId": "76be1a00-a4ab-4217-d2f7-dbd898fa6fd8"
   },
   "outputs": [
    {
     "data": {
      "image/png": "[encoded data removed]",
      "text/plain": [
       "<Figure size 432x288 with 1 Axes>"
      ]
     },
     "metadata": {
      "needs_background": "light"
     },
     "output_type": "display_data"
    }
   ],
   "source": [
    "sns.countplot(data=df,x='family_history_mental_illness', hue='diagnosed_mental_health_condition')\n",
    "plt.xlabel(\"Do you have a family history of mental illness?\")\n",
    "plt.title('Family History of illness')\n",
    "plt.savefig('outputs/family_history.png')"
   ]
  },
  {
   "cell_type": "markdown",
   "id": "eb8bccd2",
   "metadata": {
    "id": "eb8bccd2"
   },
   "source": [
    "**The Influence of Past Mental Illness on Present Well-Being**"
   ]
  },
  {
   "cell_type": "code",
   "execution_count": 27,
   "id": "ce353549",
   "metadata": {
    "id": "ce353549",
    "outputId": "943b9f72-e3ec-4dfd-e0c7-175a459b4785",
    "scrolled": false
   },
   "outputs": [
    {
     "data": {
      "image/png": "[encoded data removed]",
      "text/plain": [
       "<Figure size 864x864 with 2 Axes>"
      ]
     },
     "metadata": {},
     "output_type": "display_data"
    }
   ],
   "source": [
    "plt.figure(figsize=(12,12))\n",
    "plt.subplot(1,2,1)\n",
    "plt.title(\"Mental health disorder in the past\")\n",
    "plt.pie(df[df.mental_health_disorder_past=='Yes']['diagnosed_mental_health_condition'].value_counts(),\n",
    "       autopct='%1f%%',radius=1,\n",
    "       labels=df[df.mental_health_disorder_past=='Yes']['diagnosed_mental_health_condition'].value_counts().index)\n",
    "\n",
    "plt.subplot(1,2,2)\n",
    "plt.title(\"No mental health disorder in the past\")\n",
    "plt.pie(df[df.mental_health_disorder_past=='No']['diagnosed_mental_health_condition'].value_counts(),\n",
    "       autopct='%1f%%',radius=1,\n",
    "       labels=df[df.mental_health_disorder_past=='No']['diagnosed_mental_health_condition'].value_counts().index)\n",
    "plt.legend(title=\"diagnosed_mental_health_condition\", bbox_to_anchor=(0.90, 1.0))\n",
    "\n",
    "\n",
    "plt.savefig('outputs/previous_mental health_illness.png')"
   ]
  },
  {
   "cell_type": "markdown",
   "id": "8f6dd464",
   "metadata": {
    "id": "8f6dd464"
   },
   "source": [
    "**The Impact of Employer Attitudes towards Mental Health on Employee Well-Being**"
   ]
  },
  {
   "cell_type": "code",
   "execution_count": 28,
   "id": "5d22c288",
   "metadata": {
    "id": "5d22c288",
    "outputId": "2d8a46c9-f34b-4471-8310-86b58b8702e1",
    "scrolled": true
   },
   "outputs": [
    {
     "data": {
      "image/png": "[encoded data removed]",
      "text/plain": [
       "<Figure size 432x432 with 1 Axes>"
      ]
     },
     "metadata": {
      "needs_background": "light"
     },
     "output_type": "display_data"
    }
   ],
   "source": [
    "plt.figure(figsize=(6,6))\n",
    "sns.countplot(data=df,x='employer_take_mental_health_seriously',hue='diagnosed_mental_health_condition')\n",
    "plt.xlabel(\"Does your employer takes mental health as seriously as physical health?\")\n",
    "plt.title(\"Employer's seriousness\")\n",
    "plt.savefig('outputs/employer_seriousness.png')"
   ]
  },
  {
   "cell_type": "markdown",
   "id": "5f2223b2",
   "metadata": {
    "id": "5f2223b2"
   },
   "source": [
    "**Examining the Relationship between Gender and Mental Health**"
   ]
  },
  {
   "cell_type": "code",
   "execution_count": 29,
   "id": "3165466e",
   "metadata": {
    "id": "3165466e",
    "outputId": "20107e05-c96a-49e2-a9c6-19f2aa7ad2a8",
    "scrolled": true
   },
   "outputs": [
    {
     "data": {
      "image/png": "[encoded data removed]",
      "text/plain": [
       "<Figure size 1080x1080 with 3 Axes>"
      ]
     },
     "metadata": {},
     "output_type": "display_data"
    }
   ],
   "source": [
    "plt.figure(figsize=(15,15))\n",
    "plt.subplot(1,3,1)\n",
    "plt.title(\"Male\")\n",
    "plt.pie(df[df.gender=='male']['diagnosed_mental_health_condition'].value_counts(),\n",
    "       autopct='%1f%%',radius=1,\n",
    "       labels=df[df.gender=='male']['diagnosed_mental_health_condition'].value_counts().index)\n",
    "\n",
    "plt.subplot(1,3,2)\n",
    "plt.title(\"Female\")\n",
    "plt.pie(df[df.gender=='female']['diagnosed_mental_health_condition'].value_counts(),\n",
    "       autopct='%1f%%',radius=1,\n",
    "       labels=df[df.gender=='female']['diagnosed_mental_health_condition'].value_counts().index)\n",
    "\n",
    "plt.subplot(1,3,3)\n",
    "plt.title(\"Others\")\n",
    "plt.pie(df[df.gender=='other']['diagnosed_mental_health_condition'].value_counts(),\n",
    "       autopct='%1f%%',radius=1,\n",
    "       labels=df[df.gender=='other']['diagnosed_mental_health_condition'].value_counts().index)\n",
    "plt.legend(title=\"diagnosed_mental_health_condition\", bbox_to_anchor=(0.90, 1.0))\n",
    "\n",
    "plt.savefig('outputs/gender.png')"
   ]
  },
  {
   "cell_type": "markdown",
   "id": "934c6b8f",
   "metadata": {
    "id": "934c6b8f"
   },
   "source": [
    "**Selecting features**"
   ]
  },
  {
   "cell_type": "code",
   "execution_count": 30,
   "id": "86b4e719",
   "metadata": {
    "id": "86b4e719"
   },
   "outputs": [],
   "source": [
    "X = df.drop(\n",
    "    [\n",
    "        \"diagnosed_mental_health_condition\",\n",
    "        \"treatment_from_professional\",\n",
    "        \"while_effective_treatment_mental_health_issue_interferes_work\",\n",
    "        \"while_not_effective_treatment_interferes_work \",\n",
    "    ],\n",
    "    axis=1,\n",
    ")\n",
    "\n",
    "feature_cols = [\n",
    "    \"self_employed\",\n",
    "    \"no_of_employees\",\n",
    "    \"tech_company\",\n",
    "    \"mental_healthcare_coverage\",\n",
    "    \"knowledge_about_mental_healthcare_options_workplace\",\n",
    "    \"employer_discussed_mental_health \",\n",
    "    \"employer_offer_resources_to_learn_about_mental_health\",\n",
    "    \"medical_leave_from_work \",\n",
    "    \"comfortable_discussing_with_coworkers\",\n",
    "    \"employer_take_mental_health_seriously\",\n",
    "    \"openess_of_family_friends\",\n",
    "    \"family_history_mental_illness\",\n",
    "    \"mental_health_disorder_past\",\n",
    "    \"currently_mental_health_disorder\",\n",
    "    \"gender\",\n",
    "    \"country\",\n",
    "    \"country work \",\n",
    "    \"work_remotely\",\n",
    "    \"tech_role\",\n",
    "]"
   ]
  },
  {
   "cell_type": "markdown",
   "id": "ffa5b946",
   "metadata": {
    "id": "ffa5b946"
   },
   "source": [
    "**One-hot encoding**"
   ]
  },
  {
   "cell_type": "code",
   "execution_count": 31,
   "id": "dcd64c6f",
   "metadata": {
    "id": "dcd64c6f",
    "outputId": "7368ca4c-b851-4d0f-b566-aa2c6bcc8419"
   },
   "outputs": [
    {
     "name": "stderr",
     "output_type": "stream",
     "text": [
      "C:\\Users\\swast\\AppData\\Local\\Temp\\ipykernel_14132\\4230545012.py:1: FutureWarning: In a future version, the Index constructor will not infer numeric dtypes when passed object-dtype sequences (matching Series behavior)\n",
      "  X = pd.get_dummies(X, columns=feature_cols)\n",
      "C:\\Users\\swast\\AppData\\Local\\Temp\\ipykernel_14132\\4230545012.py:1: FutureWarning: In a future version, the Index constructor will not infer numeric dtypes when passed object-dtype sequences (matching Series behavior)\n",
      "  X = pd.get_dummies(X, columns=feature_cols)\n",
      "C:\\Users\\swast\\AppData\\Local\\Temp\\ipykernel_14132\\4230545012.py:1: FutureWarning: In a future version, the Index constructor will not infer numeric dtypes when passed object-dtype sequences (matching Series behavior)\n",
      "  X = pd.get_dummies(X, columns=feature_cols)\n"
     ]
    }
   ],
   "source": [
    "X = pd.get_dummies(X, columns=feature_cols)\n",
    "x = X.to_numpy().astype(np.float64)\n",
    "y = df[\"diagnosed_mental_health_condition\"].replace({\"No\": 0, \"Yes\": 1}).to_numpy()"
   ]
  },
  {
   "cell_type": "markdown",
   "id": "22d2a80f",
   "metadata": {
    "id": "22d2a80f"
   },
   "source": [
    "#### Train Test Validation Split"
   ]
  },
  {
   "cell_type": "code",
   "execution_count": 32,
   "id": "fd9ffd0e",
   "metadata": {
    "id": "fd9ffd0e"
   },
   "outputs": [],
   "source": [
    "X_train, X_test, y_train, y_test = train_test_split(x, y, test_size=0.2, random_state=0)\n",
    "X_train, X_val, y_train, y_val = train_test_split(\n",
    "    X_train, y_train, test_size=0.25, random_state=1\n",
    ")\n",
    "\n",
    "y_train = y_train.reshape((859, 1))\n",
    "y_val = y_val.reshape((287, 1))\n",
    "y_test = y_test.reshape((287, 1))"
   ]
  },
  {
   "cell_type": "markdown",
   "id": "be3a6ef5",
   "metadata": {
    "id": "be3a6ef5"
   },
   "source": [
    "**Convert numpy arrays to tensors**"
   ]
  },
  {
   "cell_type": "code",
   "execution_count": 33,
   "id": "658b2fe6",
   "metadata": {
    "id": "658b2fe6"
   },
   "outputs": [],
   "source": [
    "def convert_to_tensor(data):\n",
    "    return torch.from_numpy(data).type(torch.float64)"
   ]
  },
  {
   "cell_type": "code",
   "execution_count": 34,
   "id": "e6a0f958",
   "metadata": {
    "id": "e6a0f958"
   },
   "outputs": [],
   "source": [
    "train_inputs_pt = convert_to_tensor(X_train)\n",
    "train_outputs_pt = convert_to_tensor(y_train)\n",
    "\n",
    "val_inputs_pt = convert_to_tensor(X_val)\n",
    "val_outputs_pt = convert_to_tensor(y_val)\n",
    "\n",
    "test_inputs_pt = convert_to_tensor(X_test)\n",
    "test_outputs_pt = convert_to_tensor(y_test)"
   ]
  },
  {
   "cell_type": "markdown",
   "id": "a4185362",
   "metadata": {
    "id": "a4185362"
   },
   "source": [
    "#### Model Architecture"
   ]
  },
  {
   "cell_type": "markdown",
   "id": "cd62b1da",
   "metadata": {
    "id": "cd62b1da"
   },
   "source": [
    "**Linear Block**"
   ]
  },
  {
   "cell_type": "code",
   "execution_count": 35,
   "id": "ba50936d",
   "metadata": {
    "id": "ba50936d"
   },
   "outputs": [],
   "source": [
    "class Linear(torch.nn.Module):\n",
    "    def __init__(self, n_x, n_y):\n",
    "        super().__init__()\n",
    "        self.fc = torch.nn.Linear(n_x, n_y, dtype=torch.float64)\n",
    "\n",
    "    def forward(self, x):\n",
    "        return self.fc(x)"
   ]
  },
  {
   "cell_type": "markdown",
   "id": "a3940c11",
   "metadata": {
    "id": "a3940c11"
   },
   "source": [
    "**ReLU Block**"
   ]
  },
  {
   "cell_type": "code",
   "execution_count": 36,
   "id": "794c5157",
   "metadata": {
    "id": "794c5157"
   },
   "outputs": [],
   "source": [
    "class ReLU(torch.nn.Module):\n",
    "    def __init__(self, n_x, n_y):\n",
    "        super().__init__()\n",
    "        self.fc = torch.nn.Linear(n_x, n_y, dtype=torch.float64)\n",
    "\n",
    "    def forward(self, x):\n",
    "        return torch.nn.functional.relu(self.fc(x))"
   ]
  },
  {
   "cell_type": "markdown",
   "id": "1da51a64",
   "metadata": {
    "id": "1da51a64"
   },
   "source": [
    "**Sigmoid Block**"
   ]
  },
  {
   "cell_type": "code",
   "execution_count": 37,
   "id": "c4552e0f",
   "metadata": {
    "id": "c4552e0f"
   },
   "outputs": [],
   "source": [
    "class Sigmoid(torch.nn.Module):\n",
    "    def __init__(self, n_x, n_y):\n",
    "        super().__init__()\n",
    "        self.fc = torch.nn.Linear(n_x, n_y, dtype=torch.float64)\n",
    "\n",
    "    def forward(self, x):\n",
    "        return torch.sigmoid(self.fc(x))"
   ]
  },
  {
   "cell_type": "markdown",
   "id": "957901ce",
   "metadata": {
    "id": "957901ce"
   },
   "source": [
    "**DeepNeuralNet Class**"
   ]
  },
  {
   "cell_type": "code",
   "execution_count": 38,
   "id": "88bc0b67",
   "metadata": {
    "id": "88bc0b67"
   },
   "outputs": [],
   "source": [
    "class DeepNeuralNet(torch.nn.Module):\n",
    "    def __init__(self, n_x, n_h, n_y):\n",
    "        super().__init__()\n",
    "        self.layers = torch.nn.ModuleList()\n",
    "        self.loss = torch.nn.BCELoss()\n",
    "        self.accuracy = BinaryAccuracy()\n",
    "        self.create_layers(n_x, n_h, n_y)\n",
    "\n",
    "    def create_layers(self, n_x, n_h, n_y):\n",
    "        layer_sizes = [n_x] + n_h + [n_y]\n",
    "        for i in range(len(layer_sizes) - 1):\n",
    "            if i == len(layer_sizes) - 2:\n",
    "                self.layers.append(Sigmoid(layer_sizes[i], layer_sizes[i + 1]))\n",
    "            else:\n",
    "                self.layers.append(ReLU(layer_sizes[i], layer_sizes[i + 1]))\n",
    "                self.layers.append(torch.nn.Dropout(0.5))\n",
    "                self.layers.append(torch.nn.LeakyReLU(negative_slope=0.1))\n",
    "\n",
    "    def forward(self, x):\n",
    "        for layer in self.layers:\n",
    "            x = layer(x)\n",
    "        return x\n",
    "    \n",
    "    def trainer(self, inputs, outputs, val_inputs, val_outputs, N_max = 1000, lr = 0.01, batch_size = 32):\n",
    "        dataset = torch.utils.data.TensorDataset(inputs, outputs)\n",
    "        data_loader = torch.utils.data.DataLoader(dataset, batch_size = batch_size, shuffle = True)\n",
    "        optimizer = torch.optim.SGD(self.parameters(), lr = lr)\n",
    "        optimizer.zero_grad()\n",
    "        self.train_loss_history = []\n",
    "        self.train_accuracy_history = []\n",
    "        self.validation_loss_history = []\n",
    "        self.validation_accuracy_history = []\n",
    "        for iteration_number in range(1, N_max + 1):\n",
    "            for batch, (X, y) in enumerate(data_loader):\n",
    "                pred = self(X)\n",
    "                total_loss = self.loss(pred, y)\n",
    "                total_loss.backward()\n",
    "                optimizer.step()\n",
    "                optimizer.zero_grad()\n",
    "            prediction = self(inputs)\n",
    "            acc = self.accuracy(prediction, outputs).item()\n",
    "            self.train_accuracy_history.append(acc)\n",
    "            self.train_loss_history.append(total_loss.item())\n",
    "            with torch.no_grad():\n",
    "                pred = self(val_inputs)\n",
    "                val_loss = self.loss(pred, val_outputs)\n",
    "                val_acc = self.accuracy(pred, val_outputs).item()\n",
    "            self.validation_loss_history.append(val_loss.item())\n",
    "            self.validation_accuracy_history.append(val_acc)\n",
    "            print(\"Iteration {} - Loss = {} - Accuracy = {} - Validation Loss = {} - Validation Accuracy = {}\".format(iteration_number, total_loss, acc, val_loss, val_acc))\n",
    "        return self.train_loss_history, self.validation_loss_history, self.train_accuracy_history, self.validation_accuracy_history\n",
    "    \n",
    "    def tester(self, inputs, outputs):\n",
    "        self.eval()\n",
    "        with torch.no_grad():\n",
    "            pred = self(inputs)\n",
    "            loss = self.loss(pred, outputs)\n",
    "            acc = self.accuracy(pred, outputs).item()\n",
    "        print(\"Test Loss = {} - Test Accuracy = {}\".format(loss, acc))\n",
    "        return loss, acc"
   ]
  },
  {
   "cell_type": "markdown",
   "id": "7069bcd5",
   "metadata": {
    "id": "7069bcd5"
   },
   "source": [
    "**Training our model**"
   ]
  },
  {
   "cell_type": "code",
   "execution_count": 39,
   "id": "3b3740b6",
   "metadata": {
    "id": "3b3740b6",
    "outputId": "0de6df85-264b-449b-ee1c-86d27e437ef2"
   },
   "outputs": [
    {
     "name": "stdout",
     "output_type": "stream",
     "text": [
      "Iteration 1 - Loss = 0.7183392216358798 - Accuracy = 0.5157159566879272 - Validation Loss = 0.7135874471623616 - Validation Accuracy = 0.46689894795417786\n",
      "Iteration 2 - Loss = 0.7157547733084452 - Accuracy = 0.5157159566879272 - Validation Loss = 0.7113730769242924 - Validation Accuracy = 0.46689894795417786\n",
      "Iteration 3 - Loss = 0.6664792449389361 - Accuracy = 0.5168800950050354 - Validation Loss = 0.710680113309961 - Validation Accuracy = 0.46341463923454285\n",
      "Iteration 4 - Loss = 0.6620440367434136 - Accuracy = 0.5145518183708191 - Validation Loss = 0.7050575052075407 - Validation Accuracy = 0.45993030071258545\n",
      "Iteration 5 - Loss = 0.7099441868328994 - Accuracy = 0.5157159566879272 - Validation Loss = 0.7092346955027031 - Validation Accuracy = 0.46341463923454285\n",
      "Iteration 6 - Loss = 0.6676542368006011 - Accuracy = 0.5157159566879272 - Validation Loss = 0.7078748949322857 - Validation Accuracy = 0.45993030071258545\n",
      "Iteration 7 - Loss = 0.716725526599405 - Accuracy = 0.5180442333221436 - Validation Loss = 0.7104106946765663 - Validation Accuracy = 0.46341463923454285\n",
      "Iteration 8 - Loss = 0.6586971759879211 - Accuracy = 0.5157159566879272 - Validation Loss = 0.7020649872592264 - Validation Accuracy = 0.47038328647613525\n",
      "Iteration 9 - Loss = 0.7290577572967352 - Accuracy = 0.5168800950050354 - Validation Loss = 0.6994523040686318 - Validation Accuracy = 0.4773519039154053\n",
      "Iteration 10 - Loss = 0.7252405933665146 - Accuracy = 0.5273573994636536 - Validation Loss = 0.700337858700413 - Validation Accuracy = 0.47386759519577026\n",
      "Iteration 11 - Loss = 0.6778930630364812 - Accuracy = 0.5238649845123291 - Validation Loss = 0.6984343243950699 - Validation Accuracy = 0.46689894795417786\n",
      "Iteration 12 - Loss = 0.6963597574053869 - Accuracy = 0.5250291228294373 - Validation Loss = 0.6986546543649018 - Validation Accuracy = 0.46689894795417786\n",
      "Iteration 13 - Loss = 0.7031537775335134 - Accuracy = 0.5157159566879272 - Validation Loss = 0.6936429162837479 - Validation Accuracy = 0.4912891983985901\n",
      "Iteration 14 - Loss = 0.7009303134393605 - Accuracy = 0.5273573994636536 - Validation Loss = 0.6959949353925433 - Validation Accuracy = 0.4843205511569977\n",
      "Iteration 15 - Loss = 0.7043783163934672 - Accuracy = 0.5145518183708191 - Validation Loss = 0.6976391329464926 - Validation Accuracy = 0.4773519039154053\n",
      "Iteration 16 - Loss = 0.6704899504524247 - Accuracy = 0.5296856760978699 - Validation Loss = 0.7017638218362559 - Validation Accuracy = 0.48083624243736267\n",
      "Iteration 17 - Loss = 0.711557713074422 - Accuracy = 0.5459837317466736 - Validation Loss = 0.6965166565173286 - Validation Accuracy = 0.5226480960845947\n",
      "Iteration 18 - Loss = 0.7170780081496906 - Accuracy = 0.5576251745223999 - Validation Loss = 0.6927510726465219 - Validation Accuracy = 0.5087108016014099\n",
      "Iteration 19 - Loss = 0.6713835475466494 - Accuracy = 0.5634458661079407 - Validation Loss = 0.6919125005661689 - Validation Accuracy = 0.5156794190406799\n",
      "Iteration 20 - Loss = 0.6762565253451519 - Accuracy = 0.5459837317466736 - Validation Loss = 0.693692120718819 - Validation Accuracy = 0.5156794190406799\n",
      "Iteration 21 - Loss = 0.704047664448202 - Accuracy = 0.530849814414978 - Validation Loss = 0.6963819283707966 - Validation Accuracy = 0.5191637873649597\n",
      "Iteration 22 - Loss = 0.6859031094943767 - Accuracy = 0.5599534511566162 - Validation Loss = 0.6930412085686507 - Validation Accuracy = 0.5296167135238647\n",
      "Iteration 23 - Loss = 0.6827195636836335 - Accuracy = 0.5506402850151062 - Validation Loss = 0.6912418310324356 - Validation Accuracy = 0.5400696992874146\n",
      "Iteration 24 - Loss = 0.6829367224210274 - Accuracy = 0.5646100044250488 - Validation Loss = 0.6916245215612788 - Validation Accuracy = 0.4947735071182251\n",
      "Iteration 25 - Loss = 0.7078566958410993 - Accuracy = 0.5459837317466736 - Validation Loss = 0.6950627965608865 - Validation Accuracy = 0.4843205511569977\n",
      "Iteration 26 - Loss = 0.6905210636504775 - Accuracy = 0.556460976600647 - Validation Loss = 0.6882121121475395 - Validation Accuracy = 0.5365853905677795\n",
      "Iteration 27 - Loss = 0.6712883394505401 - Accuracy = 0.5774155855178833 - Validation Loss = 0.6870419164363729 - Validation Accuracy = 0.5505226254463196\n",
      "Iteration 28 - Loss = 0.6809054530436162 - Accuracy = 0.5424912571907043 - Validation Loss = 0.6897315558127988 - Validation Accuracy = 0.5261324048042297\n",
      "Iteration 29 - Loss = 0.6936587670230411 - Accuracy = 0.584400475025177 - Validation Loss = 0.6945880398145834 - Validation Accuracy = 0.47038328647613525\n",
      "Iteration 30 - Loss = 0.7035485198080983 - Accuracy = 0.5646100044250488 - Validation Loss = 0.6838180762638535 - Validation Accuracy = 0.5191637873649597\n",
      "Iteration 31 - Loss = 0.6755721434245755 - Accuracy = 0.5809080600738525 - Validation Loss = 0.6842602644526331 - Validation Accuracy = 0.5470383167266846\n",
      "Iteration 32 - Loss = 0.6947856656908242 - Accuracy = 0.5611175894737244 - Validation Loss = 0.6851806330250712 - Validation Accuracy = 0.5435540080070496\n",
      "Iteration 33 - Loss = 0.6675629986628304 - Accuracy = 0.5704307556152344 - Validation Loss = 0.6841722317989463 - Validation Accuracy = 0.5365853905677795\n",
      "Iteration 34 - Loss = 0.69083802192804 - Accuracy = 0.5552968382835388 - Validation Loss = 0.6875221793962718 - Validation Accuracy = 0.5400696992874146\n",
      "Iteration 35 - Loss = 0.6826972039746585 - Accuracy = 0.593713641166687 - Validation Loss = 0.6832051678037993 - Validation Accuracy = 0.5574913024902344\n",
      "Iteration 36 - Loss = 0.673799457822101 - Accuracy = 0.593713641166687 - Validation Loss = 0.6752914693872771 - Validation Accuracy = 0.595818817615509\n",
      "Iteration 37 - Loss = 0.6942410506895281 - Accuracy = 0.584400475025177 - Validation Loss = 0.6768397556613248 - Validation Accuracy = 0.5818815231323242\n",
      "Iteration 38 - Loss = 0.6524613847354649 - Accuracy = 0.5576251745223999 - Validation Loss = 0.6789111335496202 - Validation Accuracy = 0.5470383167266846\n",
      "Iteration 39 - Loss = 0.6844196752507805 - Accuracy = 0.6076833605766296 - Validation Loss = 0.6805760513341912 - Validation Accuracy = 0.5261324048042297\n",
      "Iteration 40 - Loss = 0.6833016590359473 - Accuracy = 0.5762514472007751 - Validation Loss = 0.6794430062979554 - Validation Accuracy = 0.5505226254463196\n",
      "Iteration 41 - Loss = 0.6489267286555773 - Accuracy = 0.5948777794837952 - Validation Loss = 0.668899300788008 - Validation Accuracy = 0.599303126335144\n",
      "Iteration 42 - Loss = 0.6786582693034319 - Accuracy = 0.5983701944351196 - Validation Loss = 0.6660712895649246 - Validation Accuracy = 0.6167247295379639\n",
      "Iteration 43 - Loss = 0.6641097354213902 - Accuracy = 0.6030267477035522 - Validation Loss = 0.6691412528290003 - Validation Accuracy = 0.5574913024902344\n",
      "Iteration 44 - Loss = 0.657454245661531 - Accuracy = 0.5960419178009033 - Validation Loss = 0.6638442787107405 - Validation Accuracy = 0.5435540080070496\n",
      "Iteration 45 - Loss = 0.6731203205528605 - Accuracy = 0.610011637210846 - Validation Loss = 0.6700584445395255 - Validation Accuracy = 0.5853658318519592\n",
      "Iteration 46 - Loss = 0.6328254095588167 - Accuracy = 0.5762514472007751 - Validation Loss = 0.6426750156200124 - Validation Accuracy = 0.6515679359436035\n",
      "Iteration 47 - Loss = 0.6582579392248122 - Accuracy = 0.619324803352356 - Validation Loss = 0.6604718287956672 - Validation Accuracy = 0.599303126335144\n",
      "Iteration 48 - Loss = 0.6595922728226993 - Accuracy = 0.6414435505867004 - Validation Loss = 0.6576932724628888 - Validation Accuracy = 0.595818817615509\n",
      "Iteration 49 - Loss = 0.634279882092827 - Accuracy = 0.628637969493866 - Validation Loss = 0.653176788182727 - Validation Accuracy = 0.595818817615509\n",
      "Iteration 50 - Loss = 0.7106000850916026 - Accuracy = 0.6414435505867004 - Validation Loss = 0.6602484764026161 - Validation Accuracy = 0.588850200176239\n",
      "Iteration 51 - Loss = 0.6172203370248529 - Accuracy = 0.6577415466308594 - Validation Loss = 0.6444565411537032 - Validation Accuracy = 0.5679442286491394\n",
      "Iteration 52 - Loss = 0.6953430439185306 - Accuracy = 0.6298021078109741 - Validation Loss = 0.6425763154445379 - Validation Accuracy = 0.6167247295379639\n",
      "Iteration 53 - Loss = 0.616403587642976 - Accuracy = 0.6356227993965149 - Validation Loss = 0.6501617307159179 - Validation Accuracy = 0.602787435054779\n",
      "Iteration 54 - Loss = 0.6072443911362074 - Accuracy = 0.6495925784111023 - Validation Loss = 0.6468375028943175 - Validation Accuracy = 0.5679442286491394\n",
      "Iteration 55 - Loss = 0.642917507394139 - Accuracy = 0.6554132699966431 - Validation Loss = 0.644975638649895 - Validation Accuracy = 0.6132404208183289\n"
     ]
    },
    {
     "name": "stdout",
     "output_type": "stream",
     "text": [
      "Iteration 56 - Loss = 0.603396145890163 - Accuracy = 0.6391152739524841 - Validation Loss = 0.6306168464278429 - Validation Accuracy = 0.6167247295379639\n",
      "Iteration 57 - Loss = 0.5891943774464842 - Accuracy = 0.6589056849479675 - Validation Loss = 0.6211986301705062 - Validation Accuracy = 0.6411150097846985\n",
      "Iteration 58 - Loss = 0.6308934494643644 - Accuracy = 0.6868451833724976 - Validation Loss = 0.6339218151548763 - Validation Accuracy = 0.6341463327407837\n",
      "Iteration 59 - Loss = 0.6311886722969346 - Accuracy = 0.6600698232650757 - Validation Loss = 0.6352678316345918 - Validation Accuracy = 0.5853658318519592\n",
      "Iteration 60 - Loss = 0.5976673400960055 - Accuracy = 0.6682188510894775 - Validation Loss = 0.6025607107834727 - Validation Accuracy = 0.6515679359436035\n",
      "Iteration 61 - Loss = 0.6603931365939516 - Accuracy = 0.671711266040802 - Validation Loss = 0.6069210261733888 - Validation Accuracy = 0.6550522446632385\n",
      "Iteration 62 - Loss = 0.5898916653710409 - Accuracy = 0.7019790410995483 - Validation Loss = 0.6210863809561775 - Validation Accuracy = 0.6167247295379639\n",
      "Iteration 63 - Loss = 0.6239203614778335 - Accuracy = 0.6915017366409302 - Validation Loss = 0.5892873150309149 - Validation Accuracy = 0.693379819393158\n",
      "Iteration 64 - Loss = 0.6109962120057636 - Accuracy = 0.6891734600067139 - Validation Loss = 0.5837322273912736 - Validation Accuracy = 0.707317054271698\n",
      "Iteration 65 - Loss = 0.574558555518559 - Accuracy = 0.7206053733825684 - Validation Loss = 0.5988170682484444 - Validation Accuracy = 0.6585366129875183\n",
      "Iteration 66 - Loss = 0.5948938833151958 - Accuracy = 0.7101280689239502 - Validation Loss = 0.579404805254287 - Validation Accuracy = 0.6794425249099731\n",
      "Iteration 67 - Loss = 0.5562913032255881 - Accuracy = 0.7019790410995483 - Validation Loss = 0.6035464525434413 - Validation Accuracy = 0.6724738478660583\n",
      "Iteration 68 - Loss = 0.49511792732362025 - Accuracy = 0.725261926651001 - Validation Loss = 0.5785976568165686 - Validation Accuracy = 0.6759582161903381\n",
      "Iteration 69 - Loss = 0.4868802853340814 - Accuracy = 0.7264260649681091 - Validation Loss = 0.5503059045337773 - Validation Accuracy = 0.703832745552063\n",
      "Iteration 70 - Loss = 0.5258715287852781 - Accuracy = 0.6973224878311157 - Validation Loss = 0.5677245901832954 - Validation Accuracy = 0.696864128112793\n",
      "Iteration 71 - Loss = 0.5527373785176164 - Accuracy = 0.7275902032852173 - Validation Loss = 0.5440882383975602 - Validation Accuracy = 0.7630661725997925\n",
      "Iteration 72 - Loss = 0.5010120497823055 - Accuracy = 0.7275902032852173 - Validation Loss = 0.5784026535359186 - Validation Accuracy = 0.7247386574745178\n",
      "Iteration 73 - Loss = 0.6239408987282393 - Accuracy = 0.7392316460609436 - Validation Loss = 0.556904781112193 - Validation Accuracy = 0.7108014225959778\n",
      "Iteration 74 - Loss = 0.4721816627839764 - Accuracy = 0.7555297017097473 - Validation Loss = 0.5638858463593599 - Validation Accuracy = 0.7212543487548828\n",
      "Iteration 75 - Loss = 0.5238861352227742 - Accuracy = 0.7508730888366699 - Validation Loss = 0.5818795727684255 - Validation Accuracy = 0.707317054271698\n",
      "Iteration 76 - Loss = 0.4183456832076016 - Accuracy = 0.7648428678512573 - Validation Loss = 0.5606893040323128 - Validation Accuracy = 0.7142857313156128\n",
      "Iteration 77 - Loss = 0.49608844409424635 - Accuracy = 0.7625145316123962 - Validation Loss = 0.5405156527087335 - Validation Accuracy = 0.7212543487548828\n",
      "Iteration 78 - Loss = 0.5104697743787219 - Accuracy = 0.7566938400268555 - Validation Loss = 0.5433888885461494 - Validation Accuracy = 0.703832745552063\n",
      "Iteration 79 - Loss = 0.44983768347643266 - Accuracy = 0.7625145316123962 - Validation Loss = 0.5257145690409035 - Validation Accuracy = 0.7595818638801575\n",
      "Iteration 80 - Loss = 0.5005616939548287 - Accuracy = 0.7613503932952881 - Validation Loss = 0.5779304599750715 - Validation Accuracy = 0.7247386574745178\n",
      "Iteration 81 - Loss = 0.4823016233275266 - Accuracy = 0.7741559743881226 - Validation Loss = 0.5626577244979017 - Validation Accuracy = 0.7247386574745178\n",
      "Iteration 82 - Loss = 0.46777775827745116 - Accuracy = 0.7718276977539062 - Validation Loss = 0.5164040019153504 - Validation Accuracy = 0.7491289377212524\n",
      "Iteration 83 - Loss = 0.5845030440599187 - Accuracy = 0.7776484489440918 - Validation Loss = 0.556680478621558 - Validation Accuracy = 0.7421602606773376\n",
      "Iteration 84 - Loss = 0.5203415531225966 - Accuracy = 0.7613503932952881 - Validation Loss = 0.5215684273035095 - Validation Accuracy = 0.7700348496437073\n",
      "Iteration 85 - Loss = 0.4283624435798038 - Accuracy = 0.7683352828025818 - Validation Loss = 0.5341265090639215 - Validation Accuracy = 0.7526132464408875\n",
      "Iteration 86 - Loss = 0.3686209110331526 - Accuracy = 0.7636786699295044 - Validation Loss = 0.5290127019325698 - Validation Accuracy = 0.7351916432380676\n",
      "Iteration 87 - Loss = 0.42549712291863145 - Accuracy = 0.786961555480957 - Validation Loss = 0.5396626321662708 - Validation Accuracy = 0.7282230257987976\n",
      "Iteration 88 - Loss = 0.4097521973393903 - Accuracy = 0.786961555480957 - Validation Loss = 0.5086488712873558 - Validation Accuracy = 0.7630661725997925\n",
      "Iteration 89 - Loss = 0.4642746286856325 - Accuracy = 0.7741559743881226 - Validation Loss = 0.49222435076781645 - Validation Accuracy = 0.7944250702857971\n",
      "Iteration 90 - Loss = 0.4643684392910362 - Accuracy = 0.7776484489440918 - Validation Loss = 0.5175012609074849 - Validation Accuracy = 0.7526132464408875\n",
      "Iteration 91 - Loss = 0.41744192281922127 - Accuracy = 0.7846332788467407 - Validation Loss = 0.5238011883594362 - Validation Accuracy = 0.7595818638801575\n",
      "Iteration 92 - Loss = 0.4459985069674584 - Accuracy = 0.7799767255783081 - Validation Loss = 0.5399211899123956 - Validation Accuracy = 0.7526132464408875\n",
      "Iteration 93 - Loss = 0.4591310628231855 - Accuracy = 0.7799767255783081 - Validation Loss = 0.5488263330715647 - Validation Accuracy = 0.7456446290016174\n",
      "Iteration 94 - Loss = 0.4015028665574259 - Accuracy = 0.8009313344955444 - Validation Loss = 0.49499378383174325 - Validation Accuracy = 0.7874564528465271\n",
      "Iteration 95 - Loss = 0.37973922590830267 - Accuracy = 0.7916181683540344 - Validation Loss = 0.5407040304274283 - Validation Accuracy = 0.7700348496437073\n",
      "Iteration 96 - Loss = 0.41394714342437927 - Accuracy = 0.7846332788467407 - Validation Loss = 0.541196963898118 - Validation Accuracy = 0.7735191583633423\n",
      "Iteration 97 - Loss = 0.5862343747518969 - Accuracy = 0.7986029982566833 - Validation Loss = 0.508330885694751 - Validation Accuracy = 0.7700348496437073\n",
      "Iteration 98 - Loss = 0.31232527118180364 - Accuracy = 0.7986029982566833 - Validation Loss = 0.542046391825857 - Validation Accuracy = 0.7630661725997925\n",
      "Iteration 99 - Loss = 0.4649258048832659 - Accuracy = 0.8114086389541626 - Validation Loss = 0.516448877206923 - Validation Accuracy = 0.8222996592521667\n",
      "Iteration 100 - Loss = 0.48574122010867127 - Accuracy = 0.8044237494468689 - Validation Loss = 0.47429604829624594 - Validation Accuracy = 0.8083623647689819\n",
      "Iteration 101 - Loss = 0.540673612518809 - Accuracy = 0.8020954728126526 - Validation Loss = 0.5238135233857983 - Validation Accuracy = 0.7665505409240723\n",
      "Iteration 102 - Loss = 0.6514215456595494 - Accuracy = 0.8207217454910278 - Validation Loss = 0.4733737441046047 - Validation Accuracy = 0.7804877758026123\n",
      "Iteration 103 - Loss = 0.3441561010550369 - Accuracy = 0.8207217454910278 - Validation Loss = 0.4975923242081841 - Validation Accuracy = 0.7874564528465271\n",
      "Iteration 104 - Loss = 0.4260881582385136 - Accuracy = 0.8207217454910278 - Validation Loss = 0.545153928185229 - Validation Accuracy = 0.7456446290016174\n",
      "Iteration 105 - Loss = 0.599538001153095 - Accuracy = 0.7939464449882507 - Validation Loss = 0.5138521335735616 - Validation Accuracy = 0.7909407615661621\n",
      "Iteration 106 - Loss = 0.2800872197475667 - Accuracy = 0.8125727772712708 - Validation Loss = 0.4910609677903294 - Validation Accuracy = 0.7804877758026123\n",
      "Iteration 107 - Loss = 0.42035803259721327 - Accuracy = 0.8125727772712708 - Validation Loss = 0.5499737469123539 - Validation Accuracy = 0.7630661725997925\n",
      "Iteration 108 - Loss = 0.6149710732253532 - Accuracy = 0.8032596111297607 - Validation Loss = 0.5369955784437848 - Validation Accuracy = 0.7595818638801575\n",
      "Iteration 109 - Loss = 0.6444877377517114 - Accuracy = 0.8090803027153015 - Validation Loss = 0.5414056303436762 - Validation Accuracy = 0.7526132464408875\n",
      "Iteration 110 - Loss = 0.3406415996311983 - Accuracy = 0.8137369155883789 - Validation Loss = 0.5219098398452696 - Validation Accuracy = 0.8118466734886169\n"
     ]
    },
    {
     "name": "stdout",
     "output_type": "stream",
     "text": [
      "Iteration 111 - Loss = 0.2985549602007858 - Accuracy = 0.8079161643981934 - Validation Loss = 0.49630753372083036 - Validation Accuracy = 0.7770034670829773\n",
      "Iteration 112 - Loss = 0.34361144256686027 - Accuracy = 0.8242142200469971 - Validation Loss = 0.5306161848086586 - Validation Accuracy = 0.7874564528465271\n",
      "Iteration 113 - Loss = 0.3765003769162127 - Accuracy = 0.8009313344955444 - Validation Loss = 0.4749201107320785 - Validation Accuracy = 0.815330982208252\n",
      "Iteration 114 - Loss = 0.4725823958702276 - Accuracy = 0.8242142200469971 - Validation Loss = 0.528065044188696 - Validation Accuracy = 0.7770034670829773\n",
      "Iteration 115 - Loss = 0.5175784795401156 - Accuracy = 0.8242142200469971 - Validation Loss = 0.5313468074607886 - Validation Accuracy = 0.7456446290016174\n",
      "Iteration 116 - Loss = 0.40627783249940563 - Accuracy = 0.7986029982566833 - Validation Loss = 0.5216555432534062 - Validation Accuracy = 0.7700348496437073\n",
      "Iteration 117 - Loss = 0.8342901174597351 - Accuracy = 0.8230500817298889 - Validation Loss = 0.4820366470988127 - Validation Accuracy = 0.815330982208252\n",
      "Iteration 118 - Loss = 0.46472084933153607 - Accuracy = 0.8288707733154297 - Validation Loss = 0.5217320257702721 - Validation Accuracy = 0.7944250702857971\n",
      "Iteration 119 - Loss = 0.49105600792397625 - Accuracy = 0.8230500817298889 - Validation Loss = 0.5175859739107722 - Validation Accuracy = 0.8048780560493469\n",
      "Iteration 120 - Loss = 0.3935172711179658 - Accuracy = 0.8114086389541626 - Validation Loss = 0.5075813968069125 - Validation Accuracy = 0.7944250702857971\n",
      "Iteration 121 - Loss = 0.47450919967465893 - Accuracy = 0.8207217454910278 - Validation Loss = 0.5204997215758906 - Validation Accuracy = 0.8013937473297119\n",
      "Iteration 122 - Loss = 0.4469707762242956 - Accuracy = 0.8195576071739197 - Validation Loss = 0.5115982020671822 - Validation Accuracy = 0.8048780560493469\n",
      "Iteration 123 - Loss = 0.5472974519008789 - Accuracy = 0.8114086389541626 - Validation Loss = 0.5238666049154315 - Validation Accuracy = 0.7839721441268921\n",
      "Iteration 124 - Loss = 0.38238182456066394 - Accuracy = 0.8242142200469971 - Validation Loss = 0.5152313810987719 - Validation Accuracy = 0.7839721441268921\n",
      "Iteration 125 - Loss = 0.3399005034367534 - Accuracy = 0.8277066349983215 - Validation Loss = 0.5021011169968528 - Validation Accuracy = 0.7944250702857971\n",
      "Iteration 126 - Loss = 0.38935501489681396 - Accuracy = 0.8160651922225952 - Validation Loss = 0.520148013177342 - Validation Accuracy = 0.7735191583633423\n",
      "Iteration 127 - Loss = 0.34735426483561443 - Accuracy = 0.8358556628227234 - Validation Loss = 0.511153830884256 - Validation Accuracy = 0.7874564528465271\n",
      "Iteration 128 - Loss = 0.33860710935506627 - Accuracy = 0.831199049949646 - Validation Loss = 0.44035253684590164 - Validation Accuracy = 0.8257839679718018\n",
      "Iteration 129 - Loss = 0.4934001480244984 - Accuracy = 0.8218859434127808 - Validation Loss = 0.5381372882945152 - Validation Accuracy = 0.7735191583633423\n",
      "Iteration 130 - Loss = 0.4629215150941934 - Accuracy = 0.8346915245056152 - Validation Loss = 0.4841038006019107 - Validation Accuracy = 0.7804877758026123\n",
      "Iteration 131 - Loss = 0.3793635753367387 - Accuracy = 0.8428404927253723 - Validation Loss = 0.5134684970212875 - Validation Accuracy = 0.8118466734886169\n",
      "Iteration 132 - Loss = 0.6407814816197032 - Accuracy = 0.8183934688568115 - Validation Loss = 0.4855228791036267 - Validation Accuracy = 0.7804877758026123\n",
      "Iteration 133 - Loss = 0.48202492722548695 - Accuracy = 0.8381839394569397 - Validation Loss = 0.4548094168105777 - Validation Accuracy = 0.8013937473297119\n",
      "Iteration 134 - Loss = 0.3540145094416801 - Accuracy = 0.8346915245056152 - Validation Loss = 0.4960291584639799 - Validation Accuracy = 0.8013937473297119\n",
      "Iteration 135 - Loss = 0.6598097393989705 - Accuracy = 0.840512216091156 - Validation Loss = 0.4851553769610723 - Validation Accuracy = 0.7979093790054321\n",
      "Iteration 136 - Loss = 0.5035683373009261 - Accuracy = 0.8335273861885071 - Validation Loss = 0.5005356081828886 - Validation Accuracy = 0.7735191583633423\n",
      "Iteration 137 - Loss = 0.2983688252521393 - Accuracy = 0.8242142200469971 - Validation Loss = 0.48359219777731005 - Validation Accuracy = 0.7804877758026123\n",
      "Iteration 138 - Loss = 0.40653707010711887 - Accuracy = 0.8451688289642334 - Validation Loss = 0.48000009950308353 - Validation Accuracy = 0.8013937473297119\n",
      "Iteration 139 - Loss = 0.30491315008304115 - Accuracy = 0.8416763544082642 - Validation Loss = 0.49104879532095386 - Validation Accuracy = 0.7944250702857971\n",
      "Iteration 140 - Loss = 0.4324777273243 - Accuracy = 0.8207217454910278 - Validation Loss = 0.4691594448143365 - Validation Accuracy = 0.815330982208252\n",
      "Iteration 141 - Loss = 0.30678083144354323 - Accuracy = 0.8358556628227234 - Validation Loss = 0.5285312962734027 - Validation Accuracy = 0.8222996592521667\n",
      "Iteration 142 - Loss = 0.46771114320965057 - Accuracy = 0.8323631882667542 - Validation Loss = 0.4999611514562701 - Validation Accuracy = 0.8083623647689819\n",
      "Iteration 143 - Loss = 0.3033979284492698 - Accuracy = 0.8323631882667542 - Validation Loss = 0.49953888894331094 - Validation Accuracy = 0.8188153505325317\n",
      "Iteration 144 - Loss = 0.503693825886026 - Accuracy = 0.8346915245056152 - Validation Loss = 0.4628908341976722 - Validation Accuracy = 0.7909407615661621\n",
      "Iteration 145 - Loss = 0.4411290738523123 - Accuracy = 0.840512216091156 - Validation Loss = 0.4697644817914082 - Validation Accuracy = 0.8013937473297119\n",
      "Iteration 146 - Loss = 0.5745084546939795 - Accuracy = 0.840512216091156 - Validation Loss = 0.4849004710785289 - Validation Accuracy = 0.815330982208252\n",
      "Iteration 147 - Loss = 0.37045277935714405 - Accuracy = 0.840512216091156 - Validation Loss = 0.4819517575608288 - Validation Accuracy = 0.8188153505325317\n",
      "Iteration 148 - Loss = 0.3278268935804325 - Accuracy = 0.8381839394569397 - Validation Loss = 0.4431831420020241 - Validation Accuracy = 0.8222996592521667\n",
      "Iteration 149 - Loss = 0.4917774767089567 - Accuracy = 0.8381839394569397 - Validation Loss = 0.49199873553064055 - Validation Accuracy = 0.8292682766914368\n",
      "Iteration 150 - Loss = 0.47926257091109875 - Accuracy = 0.8381839394569397 - Validation Loss = 0.4917323544663175 - Validation Accuracy = 0.8397212624549866\n"
     ]
    }
   ],
   "source": [
    "torch.manual_seed(42)\n",
    "model = DeepNeuralNet(n_x = 164, n_h = [64, 32, 8], n_y = 1)\n",
    "train_loss_list, val_loss_list, train_acc, val_acc = model.trainer(train_inputs_pt, train_outputs_pt, val_inputs_pt, val_outputs_pt, N_max = 150, lr = 0.01, batch_size = 32)\n",
    "torch.save(model.state_dict(), \"weights/pytorch_model_{}.pt\".format(datetime.datetime.now().strftime(\"%Y%m%d_%H%M%S\")))"
   ]
  },
  {
   "cell_type": "markdown",
   "id": "5d39a1b2",
   "metadata": {
    "id": "5d39a1b2"
   },
   "source": [
    "#### Accuracy and Loss curves"
   ]
  },
  {
   "cell_type": "markdown",
   "id": "c18ef4c9",
   "metadata": {
    "id": "c18ef4c9"
   },
   "source": [
    "**Training Accuracy vs Validation Accuracy**"
   ]
  },
  {
   "cell_type": "code",
   "execution_count": 40,
   "id": "f91f75f4",
   "metadata": {
    "id": "f91f75f4",
    "outputId": "5a4d0b6c-32e4-453f-d706-9aeb8b1e3649"
   },
   "outputs": [
    {
     "data": {
      "image/png": "[encoded data removed]",
      "text/plain": [
       "<Figure size 432x288 with 1 Axes>"
      ]
     },
     "metadata": {
      "needs_background": "light"
     },
     "output_type": "display_data"
    }
   ],
   "source": [
    "plt.plot(train_acc, \"b--\", label=\"Train Accuracy\")\n",
    "plt.plot(val_acc, \"r--\", label=\"Validation Accuracy\")\n",
    "plt.xlabel(\"Iterations\")\n",
    "plt.ylabel(\"Accuracy\")\n",
    "plt.legend()\n",
    "plt.show()"
   ]
  },
  {
   "cell_type": "markdown",
   "id": "c7b6115f",
   "metadata": {
    "id": "c7b6115f"
   },
   "source": [
    "**Training Accuracy vs Validation Accuracy**"
   ]
  },
  {
   "cell_type": "code",
   "execution_count": 41,
   "id": "c148ad84",
   "metadata": {
    "id": "c148ad84",
    "outputId": "92138497-b8ab-4d6f-dba7-3117fb3f7b08"
   },
   "outputs": [
    {
     "data": {
      "image/png": "[encoded data removed]",
      "text/plain": [
       "<Figure size 432x288 with 1 Axes>"
      ]
     },
     "metadata": {
      "needs_background": "light"
     },
     "output_type": "display_data"
    }
   ],
   "source": [
    "plt.plot(train_loss_list, \"b--\", label=\"Train Loss\")\n",
    "plt.plot(val_loss_list, \"r--\", label=\"Validation Loss\")\n",
    "plt.xlabel(\"Iterations\")\n",
    "plt.ylabel(\"Accuracy\")\n",
    "plt.legend()\n",
    "plt.show()"
   ]
  },
  {
   "cell_type": "markdown",
   "id": "a4b10ddb",
   "metadata": {
    "id": "a4b10ddb"
   },
   "source": [
    "#### Evaluation"
   ]
  },
  {
   "cell_type": "code",
   "execution_count": 42,
   "id": "a71114fc",
   "metadata": {
    "id": "a71114fc",
    "outputId": "a1cd5103-602f-4a27-c345-439e4b320ebd"
   },
   "outputs": [
    {
     "name": "stdout",
     "output_type": "stream",
     "text": [
      "Test Loss = 0.25494680952059856 - Test Accuracy = 0.9303135871887207\n"
     ]
    }
   ],
   "source": [
    "test_loss, test_acc = model.tester(test_inputs_pt, test_outputs_pt)"
   ]
  },
  {
   "cell_type": "markdown",
   "id": "bc207b07",
   "metadata": {
    "id": "bc207b07"
   },
   "source": [
    "#### Loading the pre-trained model"
   ]
  },
  {
   "cell_type": "markdown",
   "id": "6b02044c",
   "metadata": {
    "id": "6b02044c"
   },
   "source": [
    "**Create a new model of the same architecture and load the parameter values**"
   ]
  },
  {
   "cell_type": "code",
   "execution_count": 43,
   "id": "3c1ac7c1",
   "metadata": {
    "id": "3c1ac7c1",
    "outputId": "73c8a73e-e8e6-4adc-f73e-3981de38d4b0"
   },
   "outputs": [
    {
     "name": "stdout",
     "output_type": "stream",
     "text": [
      "Test Loss = 0.25494680952059856 - Test Accuracy = 0.9303135871887207\n"
     ]
    }
   ],
   "source": [
    "model2 = DeepNeuralNet(n_x = 164, n_h = [64, 32, 8], n_y = 1)\n",
    "# Change the path in the following line to load the desired parameter values\n",
    "model2.load_state_dict(torch.load('weights/pytorch_model_20230409_202319.pt'))\n",
    "test_loss, test_acc = model2.tester(test_inputs_pt, test_outputs_pt)"
   ]
  },
  {
   "cell_type": "markdown",
   "id": "502f9836",
   "metadata": {},
   "source": [
    "#### Hyperparameter tuning"
   ]
  },
  {
   "cell_type": "markdown",
   "id": "63b6a92e",
   "metadata": {},
   "source": [
    "**Bayesian optimisation using Auto keras** \n",
    "One of the industry methods is to  hyperparameter tune using bayesian search. Autokeras is an AutoML library which helps us achieve the same. It constructs deep neural network just by taking in the input dataset, and tunes the parameters using bayesian optimisation. In this example, we will be using autokeras to find out if this process is able to produce better results than what we already have."
   ]
  },
  {
   "cell_type": "code",
   "execution_count": null,
   "id": "9c3be022",
   "metadata": {},
   "outputs": [
    {
     "name": "stdout",
     "output_type": "stream",
     "text": [
      "\n",
      "Search: Running Trial #1\n",
      "\n",
      "Value             |Best Value So Far |Hyperparameter\n",
      "True              |?                 |structured_data_block_1/normalize\n",
      "2                 |?                 |structured_data_block_1/dense_block_1/num_layers\n",
      "False             |?                 |structured_data_block_1/dense_block_1/use_batchnorm\n",
      "0                 |?                 |structured_data_block_1/dense_block_1/dropout\n",
      "32                |?                 |structured_data_block_1/dense_block_1/units_0\n",
      "32                |?                 |structured_data_block_1/dense_block_1/units_1\n",
      "0                 |?                 |classification_head_1/dropout\n",
      "adam              |?                 |optimizer\n",
      "0.001             |?                 |learning_rate\n",
      "\n",
      "Epoch 1/1000\n"
     ]
    }
   ],
   "source": [
    "clf = ak.StructuredDataClassifier(\n",
    "    overwrite=True, max_trials=10\n",
    ")  # It tries 21 different models.\n",
    "# Feed the structured data classifier with training data.\n",
    "clf.fit(X_train, y_train, validation_data=(X_val, y_val))\n",
    "print(clf.evaluate((X_test, y_test)))"
   ]
  },
  {
   "cell_type": "markdown",
   "id": "4e2c0883",
   "metadata": {
    "id": "4e2c0883"
   },
   "source": [
    "#### Performance against some state-of-the-art models"
   ]
  },
  {
   "cell_type": "markdown",
   "id": "f15df13b",
   "metadata": {
    "id": "f15df13b"
   },
   "source": [
    "**Random Forest Classifier**"
   ]
  },
  {
   "cell_type": "code",
   "execution_count": null,
   "id": "d23a93bd",
   "metadata": {
    "id": "d23a93bd",
    "outputId": "e49677fd-e53c-456a-d25a-00e5a1025cbe"
   },
   "outputs": [],
   "source": [
    "clf = RandomForestClassifier(max_depth=10, random_state=0)\n",
    "clf.fit(X_train, y_train)\n",
    "clf.score(X_test, y_test)"
   ]
  },
  {
   "cell_type": "markdown",
   "id": "ffba449a",
   "metadata": {
    "id": "ffba449a"
   },
   "source": [
    "**Gradient Boosting Classifier**"
   ]
  },
  {
   "cell_type": "code",
   "execution_count": null,
   "id": "72d3a46c",
   "metadata": {
    "id": "72d3a46c",
    "outputId": "b2a6b451-a67b-4a19-b663-1b8677a0cb55"
   },
   "outputs": [],
   "source": [
    "clf = clf = GradientBoostingClassifier(n_estimators=100, learning_rate=0.1, max_depth=10, random_state=0)\n",
    "clf.fit(X_train, y_train)\n",
    "clf.score(X_test, y_test)"
   ]
  }
 ],
 "metadata": {
  "colab": {
   "provenance": []
  },
  "kernelspec": {
   "display_name": "Python 3 (ipykernel)",
   "language": "python",
   "name": "python3"
  },
  "language_info": {
   "codemirror_mode": {
    "name": "ipython",
    "version": 3
   },
   "file_extension": ".py",
   "mimetype": "text/x-python",
   "name": "python",
   "nbconvert_exporter": "python",
   "pygments_lexer": "ipython3",
   "version": "3.9.12"
  }
 },
 "nbformat": 4,
 "nbformat_minor": 5
}
